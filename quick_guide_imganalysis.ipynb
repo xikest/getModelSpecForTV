{
 "cells": [
  {
   "cell_type": "markdown",
   "id": "e0c79788-d7a9-41fb-9211-f8309fe06b63",
   "metadata": {},
   "source": [
    "# QuickGuide for Image analysis\n",
    "[프로젝트 페이지: Research-on-the-TV-market](https://github.com/xikest/research-market-tv)"
   ]
  },
  {
   "cell_type": "code",
   "execution_count": null,
   "id": "f466aa77-b8ab-480a-a19b-f6c78dbcec92",
   "metadata": {},
   "outputs": [],
   "source": [
    "!pip install -U pandas openpyxl tqdm\n",
    "!pip install -U requests selenium beautifulsoup4 PyMuPDF\n",
    "!pip install -U wordcloud nltk \n",
    "!pip install -U scikit-learn openai \n",
    "!pip install -U matplotlib seaborn\n",
    "!pip install -U opencv-python pytube \n",
    "!pip install -U mkt-retv"
   ]
  },
  {
   "cell_type": "markdown",
   "id": "e8858dee-7297-4913-8525-04258cd8a7da",
   "metadata": {},
   "source": [
    "## Env 세팅"
   ]
  },
  {
   "cell_type": "code",
   "execution_count": 1,
   "id": "e0d6d9dc-eb0f-4302-b871-0ed0eb5f6698",
   "metadata": {},
   "outputs": [],
   "source": [
    "from market_research.analysis import ImgAnalysis"
   ]
  },
  {
   "cell_type": "markdown",
   "id": "883f3995-db68-4227-ab11-f1668fae91bc",
   "metadata": {},
   "source": [
    "## 준비"
   ]
  },
  {
   "cell_type": "markdown",
   "id": "c981d865-7de5-4b8a-a78c-15d392512c9e",
   "metadata": {},
   "source": [
    "### 분석 폴더\n",
    "- `input`에 파일을 넣어주세요."
   ]
  },
  {
   "cell_type": "code",
   "execution_count": 2,
   "id": "dd7f60a6-6c86-4cc9-90b4-4eba7d3e2dd1",
   "metadata": {},
   "outputs": [],
   "source": [
    "ima = ImgAnalysis()"
   ]
  },
  {
   "cell_type": "markdown",
   "id": "51ac1186-3956-4f24-8647-266946b699fb",
   "metadata": {},
   "source": [
    "## Video 분석"
   ]
  },
  {
   "cell_type": "markdown",
   "id": "38fd591f-cbde-4850-b8ab-bb328b7f6365",
   "metadata": {},
   "source": [
    "#### 비디오 다운로드 from yt"
   ]
  },
  {
   "cell_type": "code",
   "execution_count": 3,
   "id": "7a5bc1ef-b32c-4d06-945a-120e82e8a577",
   "metadata": {},
   "outputs": [
    {
     "data": {
      "text/plain": [
       "{'elemental': 'https://www.youtube.com/watch?v=hXzcyx9V0xw',\n",
       " 'supermario': 'https://www.youtube.com/watch?v=RjNcTBXTk4I',\n",
       " 'spideman1_1': 'https://www.youtube.com/watch?v=g4Hbz2jLxvQ',\n",
       " 'spideman1_2': 'https://www.youtube.com/watch?v=tg52up16eq0',\n",
       " 'spideman2_1': 'https://www.youtube.com/watch?v=cqGjhVJWtEg&t=74s',\n",
       " 'spideman2_2': 'https://www.youtube.com/watch?v=shW9i6k8cB0',\n",
       " 'arcane1': 'https://www.youtube.com/watch?v=fXmAurh012s',\n",
       " 'arcane2': 'https://www.youtube.com/watch?v=xISkcHi7djw'}"
      ]
     },
     "execution_count": 3,
     "metadata": {},
     "output_type": "execute_result"
    }
   ],
   "source": [
    "ima.preset_video_dict"
   ]
  },
  {
   "cell_type": "code",
   "execution_count": 4,
   "id": "985dcf31-425f-427e-abdd-65a1cda7641e",
   "metadata": {},
   "outputs": [
    {
     "name": "stdout",
     "output_type": "stream",
     "text": [
      "Downloading Elemental | Official Trailer...\n",
      "Downloading The Super Mario Bros. Movie | Final Trailer...\n",
      "Downloading SPIDER-MAN: INTO THE SPIDER-VERSE - Official Trailer (HD)...\n",
      "Downloading SPIDER-MAN: INTO THE SPIDER-VERSE - Official Trailer #2 (HD)...\n",
      "Downloading SPIDER-MAN: ACROSS THE SPIDER-VERSE - Official Trailer (HD)...\n",
      "Downloading SPIDER-MAN: ACROSS THE SPIDER-VERSE - Official Trailer #2 (HD)...\n",
      "Downloading Arcane | Official Trailer | Netflix...\n",
      "Downloading Arcane Season 2 | SEASON 2 PROMO TRAILER | Netflix | arcane season 2 trailer...\n"
     ]
    }
   ],
   "source": [
    "for title, url in ima.preset_video_dict.items():\n",
    "    video_path= ima.download_video_from_yt(url)"
   ]
  },
  {
   "cell_type": "code",
   "execution_count": 7,
   "id": "20ae6768-462e-46e9-b2f2-34c34dfd9d75",
   "metadata": {},
   "outputs": [
    {
     "data": {
      "text/plain": [
       "[WindowsPath('input/Arcane  Official Trailer  Netflix.mp4'),\n",
       " WindowsPath('input/Arcane Season 2  SEASON 2 PROMO TRAILER  Netflix  arcane season 2 trailer.mp4'),\n",
       " WindowsPath('input/Elemental  Official Trailer.mp4'),\n",
       " WindowsPath('input/SPIDER-MAN ACROSS THE SPIDER-VERSE - Official Trailer (HD).mp4'),\n",
       " WindowsPath('input/SPIDER-MAN ACROSS THE SPIDER-VERSE - Official Trailer 2 (HD).mp4'),\n",
       " WindowsPath('input/SPIDER-MAN INTO THE SPIDER-VERSE - Official Trailer (HD).mp4'),\n",
       " WindowsPath('input/SPIDER-MAN INTO THE SPIDER-VERSE - Official Trailer 2 (HD).mp4'),\n",
       " WindowsPath('input/The Super Mario Bros Movie  Final Trailer.mp4')]"
      ]
     },
     "execution_count": 7,
     "metadata": {},
     "output_type": "execute_result"
    }
   ],
   "source": [
    "video_paths = ima.read_files_from_inputpath(docs_type='video')\n",
    "video_paths"
   ]
  },
  {
   "cell_type": "markdown",
   "id": "55e1336e-770c-4357-a87e-f5e653cb270f",
   "metadata": {},
   "source": [
    "#### video 분석"
   ]
  },
  {
   "cell_type": "code",
   "execution_count": null,
   "id": "311d7ac7-af09-4d0a-a4c9-e4d6122682f6",
   "metadata": {},
   "outputs": [
    {
     "name": "stdout",
     "output_type": "stream",
     "text": [
      "Arcane__Official_Trailer__Netflix\n",
      "Arcane_Season_2__SEASON_2_PROMO_TRAILER__Netflix__arcane_season_2_trailer\n",
      "Elemental__Official_Trailer\n",
      "SPIDER-MAN_ACROSS_THE_SPIDER-VERSE_-_Official_Trailer_(HD)\n"
     ]
    }
   ],
   "source": [
    "for video_path in video_paths:\n",
    "    ima.process_video(video_path,frame_interval=60, showmode=False)"
   ]
  },
  {
   "cell_type": "markdown",
   "id": "58eb72a8-d611-4441-bdc9-11fff0d7ab1c",
   "metadata": {},
   "source": [
    "## Image 분석"
   ]
  },
  {
   "cell_type": "code",
   "execution_count": 5,
   "id": "5ffa3f65-7485-46e8-92bb-29ebce67a9a8",
   "metadata": {},
   "outputs": [],
   "source": [
    "image_list = ima.read_files_from_inputpath()\n",
    "# image_list"
   ]
  },
  {
   "cell_type": "code",
   "execution_count": null,
   "id": "72c31883-1148-4437-b0b7-78eb097d6910",
   "metadata": {},
   "outputs": [],
   "source": [
    "ima.to_lab_images(image_list, showmode=True)"
   ]
  },
  {
   "cell_type": "markdown",
   "id": "d54aa8b9-9b6c-426a-8511-caf6a37e2306",
   "metadata": {},
   "source": [
    "## colab에서 파일 받기"
   ]
  },
  {
   "cell_type": "code",
   "execution_count": null,
   "id": "d2b7c487-9b1c-4cdb-a9ef-a3256bbddd05",
   "metadata": {},
   "outputs": [],
   "source": [
    "from google.colab import files\n",
    "!zip -r /content/results.zip /content/results\n",
    "files.download('/content/results.zip')"
   ]
  },
  {
   "cell_type": "markdown",
   "id": "f2e14d85-12c8-47eb-bbbb-98a54b031770",
   "metadata": {},
   "source": [
    "---"
   ]
  }
 ],
 "metadata": {
  "kernelspec": {
   "display_name": "Python 3 (ipykernel)",
   "language": "python",
   "name": "python3"
  },
  "language_info": {
   "codemirror_mode": {
    "name": "ipython",
    "version": 3
   },
   "file_extension": ".py",
   "mimetype": "text/x-python",
   "name": "python",
   "nbconvert_exporter": "python",
   "pygments_lexer": "ipython3",
   "version": "3.10.13"
  }
 },
 "nbformat": 4,
 "nbformat_minor": 5
}
