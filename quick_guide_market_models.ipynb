{
 "cells": [
  {
   "cell_type": "markdown",
   "id": "1f063cfb",
   "metadata": {},
   "source": [
    "# QuickGuide for marketmodels\n",
    "\n",
    "[프로젝트 페이지: Research-on-the-TV-market](https://github.com/xikest/research-market-tv)"
   ]
  },
  {
   "cell_type": "markdown",
   "id": "30216803",
   "metadata": {},
   "source": [
    "## Env setting: Install Colab selenium & crome driver"
   ]
  },
  {
   "cell_type": "code",
   "execution_count": null,
   "id": "a25efe6b-4cbe-49d6-83be-f55507d47a90",
   "metadata": {},
   "outputs": [],
   "source": [
    "!pip install -U pandas openpyxl tqdm\n",
    "!pip install -U requests selenium beautifulsoup4 \n",
    "!pip install -U wordcloud nltk \n",
    "!pip install -U scikit-learn openai \n",
    "!pip install -U matplotlib seaborn\n",
    "!pip install -U getmodelspec"
   ]
  },
  {
   "cell_type": "code",
   "execution_count": 2,
   "id": "dffd929a-1cb5-4445-b403-f3480fe3b2c8",
   "metadata": {},
   "outputs": [],
   "source": [
    "from market_research.tools.installer import Installer\n",
    "Installer.install_chrome_and_driver()"
   ]
  },
  {
   "cell_type": "markdown",
   "id": "6e1cbb67",
   "metadata": {},
   "source": [
    "## Env. 세팅"
   ]
  },
  {
   "cell_type": "code",
   "execution_count": 4,
   "id": "8e611f88",
   "metadata": {},
   "outputs": [],
   "source": [
    "from market_research import SONYSPEC, SONYSPEC_JP, PANASONICSPEC\n",
    "from market_research import DataCleanup_s\n",
    "from market_research import Plotting_s\n",
    "from market_research.tools import FileManager\n",
    "from market_research.tools import DataComparator\n",
    "from datetime import date\n",
    "from google.colab import files\n",
    "from pathlib import Path"
   ]
  },
  {
   "cell_type": "code",
   "execution_count": null,
   "id": "4ac45040",
   "metadata": {},
   "outputs": [],
   "source": [
    "webdriver_path = \"/content/chromedriver/chromedriver\"\n",
    "browser_path = \"/content/chrome/chrome\"\n",
    "enable_headless = True"
   ]
  },
  {
   "cell_type": "code",
   "execution_count": null,
   "id": "ac9e9fec-07e4-44ac-ac9e-d6cf05d1b06a",
   "metadata": {},
   "outputs": [],
   "source": [
    "# 폴더가 존재하지 않으면 폴더 생성\n",
    "output_folder = Path('results_spec')  \n",
    "if not output_folder.exists():\n",
    "  output_folder.mkdir(parents=True, exist_ok=True)"
   ]
  },
  {
   "cell_type": "markdown",
   "id": "8e37db89-b7bf-4c61-8e74-6d5aa412001a",
   "metadata": {},
   "source": [
    "## 실행"
   ]
  },
  {
   "cell_type": "markdown",
   "id": "03af03c9-3a93-4c18-a45c-889fd86e98cc",
   "metadata": {},
   "source": [
    "### sonyspec"
   ]
  },
  {
   "cell_type": "code",
   "execution_count": null,
   "id": "107b8e8b-526a-4afc-8df8-6fd898d43e21",
   "metadata": {},
   "outputs": [],
   "source": [
    "file_name_s = f\"sony_model_info_web_{date.today().strftime('%Y-%m-%d')}\""
   ]
  },
  {
   "cell_type": "code",
   "execution_count": null,
   "id": "04403ca4-778f-4866-b206-542d682ce23d",
   "metadata": {},
   "outputs": [],
   "source": [
    "sonyspec = SONYSPEC(webdriver_path = webdriver_path, browser_path=browser_path, enable_headless=enable_headless)\n",
    "df_models = sonyspec.get_models_info()"
   ]
  },
  {
   "cell_type": "markdown",
   "id": "8022e83e-4f01-4f2a-9067-40d57087cde5",
   "metadata": {},
   "source": [
    "#### sumarization"
   ]
  },
  {
   "cell_type": "code",
   "execution_count": null,
   "id": "b77a458a-dd59-407c-98e7-4629adf2d649",
   "metadata": {},
   "outputs": [],
   "source": [
    "dc = DataCleanup_s(df_models)"
   ]
  },
  {
   "cell_type": "markdown",
   "id": "72c20966-ef76-48a8-9d73-7553b97596ac",
   "metadata": {},
   "source": [
    "##### sector prices discount rate"
   ]
  },
  {
   "cell_type": "code",
   "execution_count": null,
   "id": "0d40ec7d-2d9a-4aad-9dcc-cfc94a7cc19d",
   "metadata": {},
   "outputs": [],
   "source": [
    "df_models_prices = dc.get_price_df()\n",
    "print(df_models_prices.columns)"
   ]
  },
  {
   "cell_type": "code",
   "execution_count": null,
   "id": "b61b8ec3-92c1-4d60-a2c3-71a18448f8f8",
   "metadata": {},
   "outputs": [],
   "source": [
    "plotting=Plotting_s(df_models_prices)\n",
    "col_group = [\"year\", \"display type\"]\n",
    "plotting.group_plot_bar(col_group =col_group , col_plot=\"price_discount\")\n",
    "col_group = [\"display type\", \"size\"]\n",
    "plotting.group_plot_bar(col_group =col_group , col_plot=\"price_discount\")"
   ]
  },
  {
   "cell_type": "markdown",
   "id": "5a036033-2957-44f7-a490-b9e40dd752c7",
   "metadata": {},
   "source": [
    "##### sector spec heatmap"
   ]
  },
  {
   "cell_type": "code",
   "execution_count": null,
   "id": "744f8e86-e65e-45e7-9929-6f96441ad8e1",
   "metadata": {},
   "outputs": [],
   "source": [
    "col_oled = []\n",
    "\n",
    "df_models_summary = dc.get_df_cleaned()\n",
    "col_oled.extend([ column for column in df_models_summary.T.columns  if 'oled' in column[1]])\n",
    "oled_df = df_models_summary.T[col_oled]\n",
    "print(oled_df.columns)"
   ]
  },
  {
   "cell_type": "code",
   "execution_count": null,
   "id": "dc2ee4c7-0bae-428a-a28a-68fd8ff2529e",
   "metadata": {},
   "outputs": [],
   "source": [
    "plotting.heatmap(df=oled_df)"
   ]
  },
  {
   "cell_type": "code",
   "execution_count": null,
   "id": "331cfc70-e25f-44fc-8496-3e623eb6a82e",
   "metadata": {},
   "outputs": [],
   "source": []
  },
  {
   "cell_type": "code",
   "execution_count": null,
   "id": "ee64e1f8-f1ca-4833-b6e6-362c8b213bcb",
   "metadata": {},
   "outputs": [],
   "source": [
    "df_models_summary = dc.get_df_cleaned()"
   ]
  },
  {
   "cell_type": "code",
   "execution_count": null,
   "id": "8ca72bf7-ee61-482a-bc05-a57c4d4b7768",
   "metadata": {},
   "outputs": [],
   "source": [
    "plotting=Plotting_s(df_models_prices)"
   ]
  },
  {
   "cell_type": "code",
   "execution_count": null,
   "id": "b51640a6-e56f-45a5-84f3-0a46c3e9d35a",
   "metadata": {},
   "outputs": [],
   "source": [
    "plotting.heatmap(df=df_models_summary)"
   ]
  },
  {
   "cell_type": "markdown",
   "id": "f61f86ba-e9d5-47dd-98a7-8de01dff925d",
   "metadata": {},
   "source": [
    "#### file download"
   ]
  },
  {
   "cell_type": "code",
   "execution_count": null,
   "id": "96c99fe1-17b7-4035-8099-1869e5ab62d9",
   "metadata": {},
   "outputs": [],
   "source": [
    "FileManager.df_to_excel(df_models_summary, file_name=file_name_s, sheet_name=\"summary_na\", mode='w')\n",
    "FileManager.df_to_excel(df_models_prices, file_name=file_name_s, sheet_name=\"prices_na\",  mode='a')\n",
    "FileManager.df_to_excel(df_models, file_name=file_name_s, sheet_name=\"raw_na\", mode='a')"
   ]
  },
  {
   "cell_type": "code",
   "execution_count": null,
   "id": "bd7fb45e-1b36-402c-9908-dc4c49886599",
   "metadata": {},
   "outputs": [],
   "source": [
    "for i, idx in enumerate(df_models_summary.index):\n",
    "    print(f\"{df_models_summary.index[0]} vs {idx}\")\n",
    "    DataComparator.is_equal_each_columns(df_models_summary.iloc[0,:], df_models_summary.iloc[i,:])"
   ]
  },
  {
   "cell_type": "markdown",
   "id": "555ebe6a-20e9-4961-88c8-48947dc5c1ad",
   "metadata": {},
   "source": [
    "### sonyspec_jp"
   ]
  },
  {
   "cell_type": "code",
   "execution_count": null,
   "id": "576a34f7-29b4-4007-b77c-9fd22ae7137d",
   "metadata": {},
   "outputs": [],
   "source": [
    "file_name_sjp =  f\"sony_model_info_web_{date.today().strftime('%Y-%m-%d')}\""
   ]
  },
  {
   "cell_type": "code",
   "execution_count": null,
   "id": "a9e06db7-0bfa-4841-b695-2826f942296f",
   "metadata": {},
   "outputs": [],
   "source": [
    "sonyspec_jp = SONYSPEC_JP(webdriver_path = webdriver_path, browser_path=browser_path, enable_headless=enable_headless)\n",
    "dict_models = sonyspec_jp.get_models_info()"
   ]
  },
  {
   "cell_type": "code",
   "execution_count": null,
   "id": "e44a5a33-c0e0-429c-9124-e8e73716374b",
   "metadata": {},
   "outputs": [],
   "source": [
    "FileManager.dict_to_excel(dict_models, file_name=file_name_sjp, sheet_name=\"raw_na\", mode='w')"
   ]
  },
  {
   "cell_type": "markdown",
   "id": "012fbc6e-9a24-4c73-bb4f-edd383d7fda9",
   "metadata": {},
   "source": [
    "### panasonicspec"
   ]
  },
  {
   "cell_type": "code",
   "execution_count": null,
   "id": "03c3bfc3-7d60-49e0-bb56-f8b6b87e066e",
   "metadata": {},
   "outputs": [],
   "source": [
    "file_name_p = f\"pana_jp_model_info_web_{date.today().strftime('%Y-%m-%d')}\""
   ]
  },
  {
   "cell_type": "code",
   "execution_count": null,
   "id": "1eccd54b-edf0-41ef-97d3-92b4bd79465f",
   "metadata": {},
   "outputs": [],
   "source": [
    "panasonicspec = PANASONICSPEC(webdriver_path = webdriver_path, browser_path=browser_path, enable_headless=enable_headless)\n",
    "df_models = panasonicspec.get_models_info()"
   ]
  },
  {
   "cell_type": "code",
   "execution_count": null,
   "id": "ba28d1c5-be63-454b-a2f0-e65da4b62713",
   "metadata": {},
   "outputs": [],
   "source": [
    "FileManager.df_to_excel(df_models, file_name=file_name_p, sheet_name=\"raw_uk\", mode='w')"
   ]
  },
  {
   "cell_type": "markdown",
   "id": "1cd68dd3",
   "metadata": {},
   "source": [
    "- colab에서 파일 받기"
   ]
  },
  {
   "cell_type": "code",
   "execution_count": null,
   "id": "6b6f31bc-00ae-4f77-aeb4-c566532aaa0b",
   "metadata": {},
   "outputs": [],
   "source": [
    "!zip -r /content/results_spec.zip /content/results_spec\n",
    "files.download('/content/results_spec.zip')"
   ]
  },
  {
   "cell_type": "markdown",
   "id": "22e7d3b1",
   "metadata": {},
   "source": [
    "---"
   ]
  }
 ],
 "metadata": {
  "kernelspec": {
   "display_name": "Python 3 (ipykernel)",
   "language": "python",
   "name": "python3"
  },
  "language_info": {
   "codemirror_mode": {
    "name": "ipython",
    "version": 3
   },
   "file_extension": ".py",
   "mimetype": "text/x-python",
   "name": "python",
   "nbconvert_exporter": "python",
   "pygments_lexer": "ipython3",
   "version": "3.10.13"
  },
  "toc": {
   "base_numbering": 1,
   "nav_menu": {},
   "number_sections": true,
   "sideBar": true,
   "skip_h1_title": false,
   "title_cell": "Table of Contents",
   "title_sidebar": "Contents",
   "toc_cell": false,
   "toc_position": {},
   "toc_section_display": true,
   "toc_window_display": false
  }
 },
 "nbformat": 4,
 "nbformat_minor": 5
}
