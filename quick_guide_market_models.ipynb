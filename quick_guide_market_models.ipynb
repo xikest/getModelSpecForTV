{
 "cells": [
  {
   "cell_type": "markdown",
   "id": "1f063cfb",
   "metadata": {},
   "source": [
    "# QuickGuide for marketmodels\n",
    "\n",
    "[프로젝트 페이지: Research-on-the-TV-market](https://github.com/xikest/research-market-tv)"
   ]
  },
  {
   "cell_type": "markdown",
   "id": "30216803",
   "metadata": {},
   "source": [
    "## Env setting: Install Colab selenium & crome driver"
   ]
  },
  {
   "cell_type": "code",
   "execution_count": 1,
   "id": "a25efe6b-4cbe-49d6-83be-f55507d47a90",
   "metadata": {},
   "outputs": [],
   "source": [
    "# !pip install -U pandas openpyxl tqdm --q\n",
    "# !pip install -U requests selenium beautifulsoup4 --q\n",
    "# !pip install -U matplotlib seaborn --q\n",
    "# !pip install -U mkt-retv --q"
   ]
  },
  {
   "cell_type": "code",
   "execution_count": 2,
   "id": "dffd929a-1cb5-4445-b403-f3480fe3b2c8",
   "metadata": {},
   "outputs": [],
   "source": [
    "# from market_research.tools.installer import Installer\n",
    "# Installer.install_chrome_and_driver()"
   ]
  },
  {
   "cell_type": "markdown",
   "id": "6e1cbb67",
   "metadata": {},
   "source": [
    "## Env. 세팅"
   ]
  },
  {
   "cell_type": "code",
   "execution_count": 3,
   "id": "8e611f88",
   "metadata": {},
   "outputs": [],
   "source": [
    "from market_research.scraper import Specscraper_s, Specscraper_sjp\n",
    "from market_research.scraper import Specscraper_l\n",
    "from market_research.scraper import Specscraper_p, Specscraper_pjp\n",
    "from market_research.scraper import Visualizer_s"
   ]
  },
  {
   "cell_type": "markdown",
   "id": "8e37db89-b7bf-4c61-8e74-6d5aa412001a",
   "metadata": {},
   "source": [
    "## 실행"
   ]
  },
  {
   "cell_type": "markdown",
   "id": "03af03c9-3a93-4c18-a45c-889fd86e98cc",
   "metadata": {},
   "source": [
    "### sonyspec"
   ]
  },
  {
   "cell_type": "code",
   "execution_count": 4,
   "id": "7061af82-080c-4098-a6fb-951dbad47d80",
   "metadata": {},
   "outputs": [],
   "source": [
    "temporary_year_marking = True #for 2024 line-up mark"
   ]
  },
  {
   "cell_type": "code",
   "execution_count": 5,
   "id": "04403ca4-778f-4866-b206-542d682ce23d",
   "metadata": {},
   "outputs": [
    {
     "name": "stdout",
     "output_type": "stream",
     "text": [
      "collecting models\n",
      "The website scan has been completed.\n",
      "number of total series: 28\n",
      "number of total model: 97\n",
      "collecting spec\n"
     ]
    },
    {
     "name": "stderr",
     "output_type": "stream",
     "text": [
      "  2%|██▋                                                                                                                              | 2/97 [01:59<1:34:09, 59.47s/it]"
     ]
    },
    {
     "name": "stdout",
     "output_type": "stream",
     "text": [
      "An error occurred on page 3rd : k75xr70 try 1/10\n"
     ]
    },
    {
     "name": "stderr",
     "output_type": "stream",
     "text": [
      " 11%|██████████████▍                                                                                                                | 11/97 [24:59<3:15:26, 136.35s/it]\n"
     ]
    },
    {
     "ename": "KeyboardInterrupt",
     "evalue": "",
     "output_type": "error",
     "traceback": [
      "\u001b[1;31m---------------------------------------------------------------------------\u001b[0m",
      "\u001b[1;31mKeyboardInterrupt\u001b[0m                         Traceback (most recent call last)",
      "Cell \u001b[1;32mIn[5], line 2\u001b[0m\n\u001b[0;32m      1\u001b[0m scraper_s \u001b[38;5;241m=\u001b[39m Specscraper_s()\n\u001b[1;32m----> 2\u001b[0m df_s_models \u001b[38;5;241m=\u001b[39m \u001b[43mscraper_s\u001b[49m\u001b[38;5;241;43m.\u001b[39;49m\u001b[43mget_models_info\u001b[49m\u001b[43m(\u001b[49m\u001b[43mtemporary_year_marking\u001b[49m\u001b[38;5;241;43m=\u001b[39;49m\u001b[43mtemporary_year_marking\u001b[49m\u001b[43m)\u001b[49m\n",
      "File \u001b[1;32m~\\Documents\\github\\research-market-tv\\market_research\\scraper\\models\\sony\\spec_s.py:44\u001b[0m, in \u001b[0;36mModelScraper_s.get_models_info\u001b[1;34m(self, format_df, fastmode, temporary_year_marking)\u001b[0m\n\u001b[0;32m     42\u001b[0m dict_info \u001b[38;5;241m=\u001b[39m \u001b[38;5;28mself\u001b[39m\u001b[38;5;241m.\u001b[39m_get_model_info(url_model)\n\u001b[0;32m     43\u001b[0m dict_models[key] \u001b[38;5;241m=\u001b[39m dict_info\n\u001b[1;32m---> 44\u001b[0m dict_spec \u001b[38;5;241m=\u001b[39m \u001b[38;5;28;43mself\u001b[39;49m\u001b[38;5;241;43m.\u001b[39;49m\u001b[43m_get_global_spec\u001b[49m\u001b[43m(\u001b[49m\u001b[43murl\u001b[49m\u001b[38;5;241;43m=\u001b[39;49m\u001b[43murl_model\u001b[49m\u001b[43m)\u001b[49m\n\u001b[0;32m     45\u001b[0m dict_models[key]\u001b[38;5;241m.\u001b[39mupdate(dict_spec)\n\u001b[0;32m     46\u001b[0m visit_url_dict[key] \u001b[38;5;241m=\u001b[39m url_model\n",
      "File \u001b[1;32m~\\Documents\\github\\research-market-tv\\market_research\\scraper\\models\\sony\\spec_s.py:180\u001b[0m, in \u001b[0;36m_get_global_spec\u001b[1;34m(self, url)\u001b[0m\n\u001b[0;32m    178\u001b[0m \u001b[38;5;28mself\u001b[39m\u001b[38;5;241m.\u001b[39mweb_driver\u001b[38;5;241m.\u001b[39mmove_element_to_center(element_spec)\n\u001b[0;32m    179\u001b[0m \u001b[38;5;28;01mif\u001b[39;00m \u001b[38;5;28mself\u001b[39m\u001b[38;5;241m.\u001b[39mtracking_log:\n\u001b[1;32m--> 180\u001b[0m     driver\u001b[38;5;241m.\u001b[39msave_screenshot(\u001b[38;5;124mf\u001b[39m\u001b[38;5;124m\"\u001b[39m\u001b[38;5;124m./\u001b[39m\u001b[38;5;132;01m{\u001b[39;00mdir_model\u001b[38;5;132;01m}\u001b[39;00m\u001b[38;5;124m/\u001b[39m\u001b[38;5;132;01m{\u001b[39;00mstamp_url\u001b[38;5;132;01m}\u001b[39;00m\u001b[38;5;124m_1_move_to_spec_\u001b[39m\u001b[38;5;132;01m{\u001b[39;00mstamp_today\u001b[38;5;132;01m}\u001b[39;00m\u001b[38;5;124m.png\u001b[39m\u001b[38;5;124m\"\u001b[39m)\n\u001b[0;32m    181\u001b[0m time\u001b[38;5;241m.\u001b[39msleep(\u001b[38;5;28mself\u001b[39m\u001b[38;5;241m.\u001b[39mwait_time)\n\u001b[0;32m    183\u001b[0m element_click_spec \u001b[38;5;241m=\u001b[39m driver\u001b[38;5;241m.\u001b[39mfind_element(By\u001b[38;5;241m.\u001b[39mID, \u001b[38;5;124m'\u001b[39m\u001b[38;5;124mPDPSpecificationsLink\u001b[39m\u001b[38;5;124m'\u001b[39m)\n",
      "\u001b[1;31mKeyboardInterrupt\u001b[0m: "
     ]
    }
   ],
   "source": [
    "scraper_s = Specscraper_s()\n",
    "df_s_models = scraper_s.get_models_info(temporary_year_marking=temporary_year_marking)"
   ]
  },
  {
   "cell_type": "markdown",
   "id": "a96cbc6a-645e-490e-ae44-a3f98a4a5d8b",
   "metadata": {},
   "source": [
    "#### Plot"
   ]
  },
  {
   "cell_type": "code",
   "execution_count": null,
   "id": "0d40ec7d-2d9a-4aad-9dcc-cfc94a7cc19d",
   "metadata": {},
   "outputs": [],
   "source": [
    "visualizer_s = Visualizer_s(df_s_models)"
   ]
  },
  {
   "cell_type": "code",
   "execution_count": null,
   "id": "bc263e1b-b629-4f6a-ab96-68705bb47114",
   "metadata": {},
   "outputs": [],
   "source": [
    "visualizer_s.heatmap_spec(display_types=['oled','lcd', 'led', 'mini led'])"
   ]
  },
  {
   "cell_type": "code",
   "execution_count": null,
   "id": "b61b8ec3-92c1-4d60-a2c3-71a18448f8f8",
   "metadata": {},
   "outputs": [],
   "source": [
    "visualizer_s.group_plot_bar(col_group = [\"year\", \"display type\"])"
   ]
  },
  {
   "cell_type": "code",
   "execution_count": null,
   "id": "fe29419e-7f11-4cc8-b53b-ac45ff12eb7c",
   "metadata": {},
   "outputs": [],
   "source": [
    "visualizer_s.group_plot_bar(col_group =[\"year\",\"display type\", \"size\"])"
   ]
  },
  {
   "cell_type": "markdown",
   "id": "f652d259-3bc0-45e7-bb79-e09de80b4b6a",
   "metadata": {},
   "source": [
    "### lgespec"
   ]
  },
  {
   "cell_type": "code",
   "execution_count": null,
   "id": "8f72887e-3ec3-4b33-aeda-d4534bf08906",
   "metadata": {},
   "outputs": [],
   "source": [
    "scraper_l = ModelScraper_l()\n",
    "df_l_models = scraper_l.get_models_info()"
   ]
  },
  {
   "cell_type": "markdown",
   "id": "012fbc6e-9a24-4c73-bb4f-edd383d7fda9",
   "metadata": {},
   "source": [
    "### panasonicspec"
   ]
  },
  {
   "cell_type": "code",
   "execution_count": null,
   "id": "1eccd54b-edf0-41ef-97d3-92b4bd79465f",
   "metadata": {},
   "outputs": [],
   "source": [
    "scraper_p = Specscraper_p()\n",
    "df_p_models = scraper_p.get_models_info()"
   ]
  },
  {
   "cell_type": "markdown",
   "id": "e2511087-6ff4-49f5-b1b7-f473f046a9eb",
   "metadata": {},
   "source": [
    "### sonyspec_jp"
   ]
  },
  {
   "cell_type": "code",
   "execution_count": null,
   "id": "2d8d6f42-9486-45a0-8514-0ba41e3b4e4d",
   "metadata": {},
   "outputs": [],
   "source": [
    "scraper_sjp = Specscraper_sjp()\n",
    "df_sjp_models = scraper_sjp.get_models_info()"
   ]
  },
  {
   "cell_type": "markdown",
   "id": "45f391a7-a11a-42d4-a47a-f49cdb19b543",
   "metadata": {},
   "source": [
    "### panasonicspec_jp"
   ]
  },
  {
   "cell_type": "code",
   "execution_count": null,
   "id": "043da2e6-e206-4a28-b982-c87f2cbfe0e0",
   "metadata": {},
   "outputs": [],
   "source": [
    "scraper_pjp = Specscraper_pjp()\n",
    "df_pjp_models = scraper_pjp.get_models_info()"
   ]
  },
  {
   "cell_type": "markdown",
   "id": "1cd68dd3",
   "metadata": {},
   "source": [
    "## colab에서 파일 받기"
   ]
  },
  {
   "cell_type": "code",
   "execution_count": null,
   "id": "6b6f31bc-00ae-4f77-aeb4-c566532aaa0b",
   "metadata": {},
   "outputs": [],
   "source": [
    "from google.colab import files\n",
    "!zip -r /content/results.zip /content/results\n",
    "files.download('/content/results.zip')"
   ]
  },
  {
   "cell_type": "markdown",
   "id": "22e7d3b1",
   "metadata": {},
   "source": [
    "---"
   ]
  }
 ],
 "metadata": {
  "kernelspec": {
   "display_name": "Python 3 (ipykernel)",
   "language": "python",
   "name": "python3"
  },
  "language_info": {
   "codemirror_mode": {
    "name": "ipython",
    "version": 3
   },
   "file_extension": ".py",
   "mimetype": "text/x-python",
   "name": "python",
   "nbconvert_exporter": "python",
   "pygments_lexer": "ipython3",
   "version": "3.10.13"
  },
  "toc": {
   "base_numbering": 1,
   "nav_menu": {},
   "number_sections": true,
   "sideBar": true,
   "skip_h1_title": false,
   "title_cell": "Table of Contents",
   "title_sidebar": "Contents",
   "toc_cell": false,
   "toc_position": {},
   "toc_section_display": true,
   "toc_window_display": false
  }
 },
 "nbformat": 4,
 "nbformat_minor": 5
}
