{
 "cells": [
  {
   "cell_type": "markdown",
   "id": "1f063cfb",
   "metadata": {},
   "source": [
    "# QuickGuide For LineUp\n",
    "\n",
    "[프로젝트 페이지: Research-on-the-TV-market](https://github.com/xikest/Research-on-the-TV-market)"
   ]
  },
  {
   "cell_type": "markdown",
   "id": "52df8a57",
   "metadata": {},
   "source": [
    "## Env setting"
   ]
  },
  {
   "cell_type": "markdown",
   "id": "70b92d40",
   "metadata": {},
   "source": [
    "-  For Coalab setting (주석 처리, ctrl+/)"
   ]
  },
  {
   "cell_type": "markdown",
   "id": "30216803",
   "metadata": {},
   "source": [
    "### Install Colab selenium & crome driver"
   ]
  },
  {
   "cell_type": "code",
   "execution_count": 2,
   "id": "9142d357",
   "metadata": {},
   "outputs": [],
   "source": [
    "# 이 부분은 처음 한번만 실행.\n",
    "#colab 환경이 아니라면 비활성화\n",
    "\n",
    "%%shell\n",
    "# Ubuntu no longer distributes chromium-browser outside of snap\n",
    "#\n",
    "# Proposed solution: https://askubuntu.com/questions/1204571/how-to-install-chromium-without-snap\n",
    "\n",
    "# Add debian buster\n",
    "cat > /etc/apt/sources.list.d/debian.list <<'EOF'\n",
    "deb [arch=amd64 signed-by=/usr/share/keyrings/debian-buster.gpg] http://deb.debian.org/debian buster main\n",
    "deb [arch=amd64 signed-by=/usr/share/keyrings/debian-buster-updates.gpg] http://deb.debian.org/debian buster-updates main\n",
    "deb [arch=amd64 signed-by=/usr/share/keyrings/debian-security-buster.gpg] http://deb.debian.org/debian-security buster/updates main\n",
    "EOF\n",
    "\n",
    "# Add keys\n",
    "apt-key adv --keyserver keyserver.ubuntu.com --recv-keys DCC9EFBF77E11517\n",
    "apt-key adv --keyserver keyserver.ubuntu.com --recv-keys 648ACFD622F3D138\n",
    "apt-key adv --keyserver keyserver.ubuntu.com --recv-keys 112695A0E562B32A\n",
    "\n",
    "apt-key export 77E11517 | gpg --dearmour -o /usr/share/keyrings/debian-buster.gpg\n",
    "apt-key export 22F3D138 | gpg --dearmour -o /usr/share/keyrings/debian-buster-updates.gpg\n",
    "apt-key export E562B32A | gpg --dearmour -o /usr/share/keyrings/debian-security-buster.gpg\n",
    "\n",
    "# Prefer debian repo for chromium* packages only\n",
    "# Note the double-blank lines between entries\n",
    "cat > /etc/apt/preferences.d/chromium.pref << 'EOF'\n",
    "Package: *\n",
    "Pin: release a=eoan\n",
    "Pin-Priority: 500\n",
    "\n",
    "\n",
    "Package: *\n",
    "Pin: origin \"deb.debian.org\"\n",
    "Pin-Priority: 300\n",
    "\n",
    "\n",
    "Package: chromium*\n",
    "Pin: origin \"deb.debian.org\"\n",
    "Pin-Priority: 700\n",
    "EOF\n",
    "\n",
    "# Install chromium and chromium-driver\n",
    "apt-get update\n",
    "apt-get install chromium chromium-driver\n",
    "\n",
    "# Install selenium\n",
    "pip install selenium\n",
    "\n",
    "# Install bs4\n",
    "pip install bs4\n",
    "\n",
    "# install getmodelspec\n",
    "pip install getmodelspec -U\n",
    "\n",
    "# install googletrans\n",
    "pip install googletrans==4.0.0-rc1"
   ]
  },
  {
   "cell_type": "markdown",
   "id": "a21fafa2",
   "metadata": {
    "heading_collapsed": true
   },
   "source": [
    "### restart Runtime"
   ]
  },
  {
   "cell_type": "markdown",
   "id": "86dcd580",
   "metadata": {
    "hidden": true
   },
   "source": [
    "- `os.kill(os.getpid(), 9)`은 런타임 재시작 입니다. 아래부터 이어서 진행하면 됩니다."
   ]
  },
  {
   "cell_type": "code",
   "execution_count": null,
   "id": "9e1b74f7",
   "metadata": {
    "hidden": true
   },
   "outputs": [],
   "source": [
    "import os\n",
    "os.kill(os.getpid(), 9)"
   ]
  },
  {
   "cell_type": "markdown",
   "id": "6e1cbb67",
   "metadata": {},
   "source": [
    "## Package setting"
   ]
  },
  {
   "cell_type": "code",
   "execution_count": 2,
   "id": "8e611f88",
   "metadata": {},
   "outputs": [],
   "source": [
    "import sys\n",
    "import pandas as pd\n",
    "from datetime import date\n",
    "from google.colab import files\n",
    "\n",
    "from getmodelspec import LineUp\n",
    "from getmodelspec import dictToexcel"
   ]
  },
  {
   "cell_type": "code",
   "execution_count": null,
   "id": "4ac45040",
   "metadata": {},
   "outputs": [],
   "source": [
    "sys.path.insert(0,'/usr/lib/chromium-browser/chromedriver') #크롬 드라이버  경로 설정"
   ]
  },
  {
   "cell_type": "markdown",
   "id": "0429c013",
   "metadata": {},
   "source": [
    "## Act"
   ]
  },
  {
   "cell_type": "code",
   "execution_count": 1,
   "id": "991f097d",
   "metadata": {},
   "outputs": [],
   "source": [
    "lineUp = LineUp()\n",
    "# dictSonyJp = lineUp.getSony(src='jp')  # SONY JP 웹사이트의 로딩이 안되어 중지\n",
    "dictSonyGlobal = lineUp.getSony(src='global', fastMode=True, toExcel=True)\n",
    "dictPana = lineUp.getPana(toExcel=True)"
   ]
  },
  {
   "cell_type": "markdown",
   "id": "1cd68dd3",
   "metadata": {},
   "source": [
    "- colab에서 파일 받기"
   ]
  },
  {
   "cell_type": "code",
   "execution_count": null,
   "id": "62e82f02",
   "metadata": {},
   "outputs": [],
   "source": [
    "# Excel 파일에 데이터프레임을 저장\n",
    "fileName = f\"LineUp_{date.today().strftime('%Y-%m-%d')}\"\n",
    "# dictToexcel(dictSonyJp, fileName=fileName ,sheetName=\"SonyJp\") # SONY JP 웹사이트의 로딩이 안되어 중지\n",
    "dictToexcel(dictSonyGlobal, fileName=fileName ,sheetName=\"SonyGlobal\")\n",
    "dictToexcel(dictPana, fileName=fileName ,sheetName=\"PanaGlobal\")\n",
    "files.download(fileName+\".xlsx\") # 파일 다운로드"
   ]
  },
  {
   "cell_type": "markdown",
   "id": "22e7d3b1",
   "metadata": {},
   "source": [
    "---"
   ]
  }
 ],
 "metadata": {
  "kernelspec": {
   "display_name": "Python 3 (ipykernel)",
   "language": "python",
   "name": "python3"
  },
  "language_info": {
   "codemirror_mode": {
    "name": "ipython",
    "version": 3
   },
   "file_extension": ".py",
   "mimetype": "text/x-python",
   "name": "python",
   "nbconvert_exporter": "python",
   "pygments_lexer": "ipython3",
   "version": "3.7.16"
  },
  "toc": {
   "base_numbering": 1,
   "nav_menu": {},
   "number_sections": true,
   "sideBar": true,
   "skip_h1_title": false,
   "title_cell": "Table of Contents",
   "title_sidebar": "Contents",
   "toc_cell": false,
   "toc_position": {},
   "toc_section_display": true,
   "toc_window_display": false
  }
 },
 "nbformat": 4,
 "nbformat_minor": 5
}
