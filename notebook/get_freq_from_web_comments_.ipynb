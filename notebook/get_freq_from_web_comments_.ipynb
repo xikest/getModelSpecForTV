{
 "cells": [
  {
   "cell_type": "markdown",
   "id": "39861745-a502-49e8-94c6-593ddddda756",
   "metadata": {},
   "source": [
    "# 패키지 설치 하기"
   ]
  },
  {
   "cell_type": "code",
   "execution_count": null,
   "id": "13877a9d-76d3-449b-99cf-5aec9698a69f",
   "metadata": {},
   "outputs": [],
   "source": [
    "!pip install pandas nltk seaborn matplotlib plotly"
   ]
  },
  {
   "cell_type": "code",
   "execution_count": null,
   "id": "dabad637-faf5-435a-821c-b10df0b43a3e",
   "metadata": {},
   "outputs": [],
   "source": [
    "# 예제 엑셀 파일 만들기"
   ]
  },
  {
   "cell_type": "code",
   "execution_count": null,
   "id": "ba3d0e52-428b-4b6a-ab7f-df06d8c72eaf",
   "metadata": {},
   "outputs": [],
   "source": [
    "import pandas as pd\n",
    "\n",
    "# 가상의 데이터 생성\n",
    "data = {\n",
    "    '순서': [1, 2, 3, 4, 5],\n",
    "    '댓글 열': [\n",
    "        \"This is a sample comment about data analysis. Data analysis is a crucial step in any research or business decision-making process. It involves collecting, cleaning, and interpreting data to gain valuable insights. Data analysts use various tools and techniques to uncover patterns and trends in data. In today's data-driven world, data analysis skills are in high demand.\",\n",
    "        \"Natural language processing (NLP) is a fascinating field of study. NLP focuses on the interaction between computers and human language. NLP applications include sentiment analysis, machine translation, chatbots, and more. NLP researchers develop algorithms to understand and generate human language. The possibilities in NLP seem endless, and it's an exciting area to explore.\",\n",
    "        \"Machine learning is revolutionizing industries across the globe. It's the science of getting computers to learn and act like humans do. Machine learning algorithms are used in recommendation systems, image recognition, autonomous vehicles, and many other areas. As machine learning advances, it continues to shape the future of technology and innovation.\",\n",
    "        \"Python is a versatile programming language commonly used in data science and machine learning. Its readability and extensive libraries make it a popular choice among data scientists. Python's simplicity and flexibility make it an excellent language for analyzing and visualizing data. It's no wonder that Python is a go-to language for data professionals.\",\n",
    "        \"Artificial intelligence (AI) is a transformative technology with applications in healthcare, finance, and more. AI systems can perform tasks that typically require human intelligence. These systems learn from data, recognize patterns, and make decisions. The growth of AI is expected to drive significant changes in various industries.\"\n",
    "    ]\n",
    "}\n",
    "\n",
    "# 데이터프레임 생성\n",
    "df = pd.DataFrame(data)\n",
    "\n",
    "# 데이터프레임을 엑셀 파일로 저장\n",
    "df.to_excel('sample_comments.xlsx', index=False)"
   ]
  },
  {
   "cell_type": "markdown",
   "id": "a4a8d863-6b29-4b39-99d6-0e7caf56fe84",
   "metadata": {},
   "source": [
    "# 분석하기"
   ]
  },
  {
   "cell_type": "markdown",
   "id": "09a0434d-cbbd-4967-9bb7-e8c09af41516",
   "metadata": {},
   "source": [
    "## Import Package"
   ]
  },
  {
   "cell_type": "code",
   "execution_count": null,
   "id": "9c186b0a-eada-4619-bf1e-880e2291d3ca",
   "metadata": {},
   "outputs": [],
   "source": [
    "import pandas as pd\n",
    "import nltk\n",
    "from nltk.tokenize import word_tokenize\n",
    "from nltk.corpus import stopwords\n",
    "from nltk.probability import FreqDist\n",
    "from nltk import pos_tag\n",
    "import plotly.express as px\n",
    "\n",
    "# Pandas의 플로팅 기능을 Plotly 백엔드로 설정\n",
    "pd.options.plotting.backend = \"plotly\""
   ]
  },
  {
   "cell_type": "markdown",
   "id": "462acd5c-651c-4acb-9160-422c2fb59f11",
   "metadata": {},
   "source": [
    "## nltk 단어장 받기\n",
    "\n",
    "- nltk.download('punkt'): 이 명령은 NLTK에서 토큰화(tokenization)와 같은 텍스트 처리 작업을 수행하는 데 필요한 Punkt 토큰화 모델을 다운로드합니다. Punkt 토큰화는 문장을 단어로 나누는 작업을 돕는 중요한 도구 중 하나입니다.\n",
    "\n",
    "- \r\n",
    "nltk.download('stopwords'): 이 명령은 NLTK에서 불용어(stopwords) 데이터를 다운로드합니다. 불용어는 자연어 처리 작업에서 일반적으로 무시되는 단어 목록입니다. 이 명령을 사용하여 일반적인 불용어 목록을 다운로드하여 텍스트 데이터에서 불용어를 제거하는 데 사용할 수 있습니\n",
    "\n",
    "- \r\n",
    "\r\n",
    "nltk.download('averaged_perceptron_tagger'): 이 명령은 품사 태깅(Part of Speech Tagging)을 행하는 데 필요한 Averaged Perceptron 품사 태깅 모델을 다운로드합니다. 품사 태깅은 단어의 문법적 역할을 정의하는 작업으로, 이 모델은 단어에 대한 품사 정보를 제공합니다."
   ]
  },
  {
   "cell_type": "code",
   "execution_count": null,
   "id": "30c49d2b-e3e7-4942-acb5-396de608eb75",
   "metadata": {},
   "outputs": [],
   "source": [
    "nltk.download('punkt')\n",
    "nltk.download('stopwords')\n",
    "nltk.download('averaged_perceptron_tagger')"
   ]
  },
  {
   "cell_type": "code",
   "execution_count": null,
   "id": "7797621d-2a0c-4bb7-a243-10c6f89148c2",
   "metadata": {},
   "outputs": [],
   "source": [
    "# 엑셀 파일 불러오기\n",
    "df = pd.read_excel('sample_comments.xlsx')\n",
    "\n",
    "# 댓글 열을 가져와서 모든 단어를 추출\n",
    "comments = df['댓글 열']\n",
    "all_words = []\n",
    "\n",
    "for comment in comments:\n",
    "    tokens = word_tokenize(comment)  # 문장을 단어로 토큰화\n",
    "    all_words.extend(tokens)\n",
    "\n",
    "# 불용어 제거\n",
    "stop_words = set(stopwords.words('english'))\n",
    "filtered_words = [word.lower() for word in all_words if word.isalnum() and word.lower() not in stop_words]\n",
    "\n",
    "# 명사만 추출\n",
    "nouns = [word for (word, tag) in pos_tag(filtered_words) if tag.startswith('N')]\n",
    "\n",
    "# 명사 빈도를 계산\n",
    "noun_counts = FreqDist(nouns)\n",
    "\n",
    "# 데이터프레임 생성\n",
    "word_freq_df = pd.DataFrame(list(noun_counts.items()), columns=['명사', '빈도'])\n",
    "\n",
    "# 빈도순으로 정렬\n",
    "word_freq_df = word_freq_df.sort_values(by='빈도', ascending=False)"
   ]
  },
  {
   "cell_type": "code",
   "execution_count": null,
   "id": "322f51cb-1c7e-4070-8c80-79c377e0dc53",
   "metadata": {},
   "outputs": [],
   "source": [
    "word_freq_df.head(3)"
   ]
  },
  {
   "cell_type": "code",
   "execution_count": null,
   "id": "6ae9b391-ee97-42bf-b3a5-24c8da2dbdd8",
   "metadata": {},
   "outputs": [],
   "source": [
    "top_words = word_freq_df.head(10) \n",
    "\n",
    "fig = px.bar(top_words, x='명사', y='빈도', title=\"상위 10개 단어의 빈도\")\n",
    "fig.update_xaxes(tickangle=45)\n",
    "fig.show()"
   ]
  },
  {
   "cell_type": "markdown",
   "id": "5c8e6a30-8109-4d64-9abf-74bd9b977c8b",
   "metadata": {},
   "source": [
    "---"
   ]
  }
 ],
 "metadata": {
  "kernelspec": {
   "display_name": "Python 3 (ipykernel)",
   "language": "python",
   "name": "python3"
  },
  "language_info": {
   "codemirror_mode": {
    "name": "ipython",
    "version": 3
   },
   "file_extension": ".py",
   "mimetype": "text/x-python",
   "name": "python",
   "nbconvert_exporter": "python",
   "pygments_lexer": "ipython3",
   "version": "3.10.13"
  }
 },
 "nbformat": 4,
 "nbformat_minor": 5
}
