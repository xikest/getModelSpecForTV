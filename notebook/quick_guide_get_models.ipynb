{
 "cells": [
  {
   "cell_type": "markdown",
   "id": "1f063cfb",
   "metadata": {},
   "source": [
    "# QuickGuide For get models\n",
    "\n",
    "[프로젝트 페이지: Research-on-the-TV-market](https://github.com/xikest/research-market-tv)"
   ]
  },
  {
   "cell_type": "markdown",
   "id": "30216803",
   "metadata": {},
   "source": [
    "## Env setting: Install Colab selenium & crome driver"
   ]
  },
  {
   "cell_type": "code",
   "execution_count": 2,
   "id": "9142d357",
   "metadata": {},
   "outputs": [],
   "source": [
    "!pip install -U getmodelspec"
   ]
  },
  {
   "cell_type": "code",
   "execution_count": 1,
   "id": "9805ebc1-2dba-4654-abdc-2c133b8e5f65",
   "metadata": {},
   "outputs": [
    {
     "name": "stdout",
     "output_type": "stream",
     "text": [
      "windows\n"
     ]
    }
   ],
   "source": [
    "import platform\n",
    "current_os = platform.system()\n",
    "if current_os == \"Linux\":\n",
    "\n",
    "    # Update pip\n",
    "    %pip install --upgrade pip\n",
    "    # Install required Python packages\n",
    "    %pip install -U openpyxl requests selenium beautifulsoup4 tqdm numpy pandas\n",
    "    # Update apt-get\n",
    "    %apt-get update\n",
    "    \n",
    "    # Download and setup Chrome\n",
    "    %wget https://edgedl.me.gvt1.com/edgedl/chrome/chrome-for-testing/119.0.6045.105/linux64/chrome-linux64.zip\n",
    "    %unzip chrome-linux64.zip\n",
    "    %rm chrome-linux64.zip\n",
    "    %mv chrome-linux64 chrome\n",
    "    \n",
    "    # Download and setup ChromeDriver\n",
    "    %wget https://edgedl.me.gvt1.com/edgedl/chrome/chrome-for-testing/119.0.6045.105/linux64/chromedriver-linux64.zip\n",
    "    %unzip chromedriver-linux64.zip\n",
    "    %rm chromedriver-linux64.zip\n",
    "    %mv chromedriver-linux64 chromedriver\n",
    "elif current_os == \"Windows\":\n",
    "    print(\"windows\")\n",
    "else:\n",
    "    print(\"지원하지 않는 운영체제입니다.\")"
   ]
  },
  {
   "cell_type": "markdown",
   "id": "6e1cbb67",
   "metadata": {},
   "source": [
    "## Package 세팅 및 실행"
   ]
  },
  {
   "cell_type": "code",
   "execution_count": 2,
   "id": "8e611f88",
   "metadata": {},
   "outputs": [],
   "source": [
    "from modelspec import ModelScraper, FileManager\n",
    "from datetime import date"
   ]
  },
  {
   "cell_type": "code",
   "execution_count": null,
   "id": "4ac45040",
   "metadata": {},
   "outputs": [],
   "source": [
    "webdriver_path = \"/content/chromedriver/chromedriver\"\n",
    "browser_path = \"/content/chrome/chrome\"\n",
    "enable_headless = True\n",
    "\n",
    "sms = ModelScraper(webdriver_path = webdriver_path, browser_path=browser_path, enable_headless=enable_headless)\n",
    "dict_models = sms.get_models_info()"
   ]
  },
  {
   "cell_type": "code",
   "execution_count": 1,
   "id": "991f097d",
   "metadata": {},
   "outputs": [],
   "source": [
    "file_name = f\"sony_model_info_web_{date.today().strftime('%Y-%m-%d')}\"\n",
    "FileManager.dict_to_excel(dict_models, file_name=file_name, sheet_name=\"global\")"
   ]
  },
  {
   "cell_type": "markdown",
   "id": "0429c013",
   "metadata": {},
   "source": [
    "## Act"
   ]
  },
  {
   "cell_type": "markdown",
   "id": "1cd68dd3",
   "metadata": {},
   "source": [
    "- colab에서 파일 받기"
   ]
  },
  {
   "cell_type": "code",
   "execution_count": null,
   "id": "62e82f02",
   "metadata": {},
   "outputs": [],
   "source": [
    "files.download(fileName+\".xlsx\") # 파일 다운로드"
   ]
  },
  {
   "cell_type": "markdown",
   "id": "22e7d3b1",
   "metadata": {},
   "source": [
    "---"
   ]
  }
 ],
 "metadata": {
  "kernelspec": {
   "display_name": "Python 3 (ipykernel)",
   "language": "python",
   "name": "python3"
  },
  "language_info": {
   "codemirror_mode": {
    "name": "ipython",
    "version": 3
   },
   "file_extension": ".py",
   "mimetype": "text/x-python",
   "name": "python",
   "nbconvert_exporter": "python",
   "pygments_lexer": "ipython3",
   "version": "3.10.13"
  },
  "toc": {
   "base_numbering": 1,
   "nav_menu": {},
   "number_sections": true,
   "sideBar": true,
   "skip_h1_title": false,
   "title_cell": "Table of Contents",
   "title_sidebar": "Contents",
   "toc_cell": false,
   "toc_position": {},
   "toc_section_display": true,
   "toc_window_display": false
  }
 },
 "nbformat": 4,
 "nbformat_minor": 5
}
