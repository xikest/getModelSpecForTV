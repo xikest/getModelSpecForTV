{
 "cells": [
  {
   "cell_type": "markdown",
   "id": "1f063cfb",
   "metadata": {},
   "source": [
    "# QuickGuide for rtings\n",
    "\n",
    "[프로젝트 페이지: Research-on-the-TV-market](https://github.com/xikest/research-market-tv)"
   ]
  },
  {
   "cell_type": "markdown",
   "id": "30216803",
   "metadata": {},
   "source": [
    "## Env setting: Install Colab selenium & crome driver"
   ]
  },
  {
   "cell_type": "code",
   "execution_count": 1,
   "id": "9805ebc1-2dba-4654-abdc-2c133b8e5f65",
   "metadata": {},
   "outputs": [
    {
     "name": "stdout",
     "output_type": "stream",
     "text": [
      "windows\n"
     ]
    }
   ],
   "source": [
    "import platform\n",
    "current_os = platform.system()\n",
    "if current_os == \"Linux\":\n",
    "  !pip install --upgrade pip\n",
    "    \n",
    "  # Install required Python packages\n",
    "  !pip install -U openpyxl requests selenium beautifulsoup4 tqdm numpy pandas\n",
    "  !pip install -U getmodelspec\n",
    "    \n",
    "  # Update apt-get\n",
    "  !apt-get update\n",
    "\n",
    "  # Download and setup Chrome\n",
    "  !wget https://edgedl.me.gvt1.com/edgedl/chrome/chrome-for-testing/119.0.6045.105/linux64/chrome-linux64.zip\n",
    "  !unzip chrome-linux64.zip\n",
    "  !rm chrome-linux64.zip\n",
    "  !mv chrome-linux64 chrome\n",
    "\n",
    "  # Download and setup ChromeDriver\n",
    "  !wget https://edgedl.me.gvt1.com/edgedl/chrome/chrome-for-testing/119.0.6045.105/linux64/chromedriver-linux64.zip\n",
    "  !unzip chromedriver-linux64.zip\n",
    "  !rm chromedriver-linux64.zip\n",
    "  !mv chromedriver-linux64 chromedriver\n",
    "elif current_os == \"Windows\":\n",
    "    print(\"windows\")\n",
    "else:\n",
    "    print(\"지원하지 않는 운영체제입니다.\")"
   ]
  },
  {
   "cell_type": "markdown",
   "id": "6e1cbb67",
   "metadata": {},
   "source": [
    "## Env. 세팅"
   ]
  },
  {
   "cell_type": "code",
   "execution_count": 2,
   "id": "8e611f88",
   "metadata": {},
   "outputs": [],
   "source": [
    "from modelspec import Rtings\n",
    "from modelspec.tools import FileManager\n",
    "from datetime import date\n",
    "from pathlib import Path\n",
    "import pandas as pd\n",
    "from google.colab import files"
   ]
  },
  {
   "cell_type": "markdown",
   "id": "6a2b21aa-7bf2-4e1e-9540-4db922069088",
   "metadata": {},
   "source": [
    "### 분석 폴더\n",
    "- `input_data`: 검색할 데이터 폴더\n",
    "- `results`: 검색된 데이터 폴더"
   ]
  },
  {
   "cell_type": "code",
   "execution_count": 2,
   "id": "61b29bb0-c3c9-40dc-93c9-1858e9bf0dba",
   "metadata": {},
   "outputs": [],
   "source": [
    "intput_folder = Path(\"input_data\")  # 폴더 이름을 지정\n",
    "\n",
    "# 폴더가 존재하지 않으면 폴더 생성\n",
    "if not intput_folder.exists():\n",
    "    intput_folder.mkdir(parents=True)\n",
    "\n",
    "output_comments_folder = Path('results/comments')  \n",
    "if not output_comments_folder.exists():\n",
    "  output_comments_folder.mkdir(parents=True, exist_ok=True)\n",
    "    \n",
    "output_scores_folder = Path('results/scores')  \n",
    "if not output_scores_folder.exists():\n",
    "  output_scores_folder.mkdir(parents=True, exist_ok=True)"
   ]
  },
  {
   "cell_type": "markdown",
   "id": "f02b7d40-921f-4b43-8b65-d9c3e6f92cc6",
   "metadata": {},
   "source": [
    "## 준비"
   ]
  },
  {
   "cell_type": "code",
   "execution_count": null,
   "id": "4ac45040",
   "metadata": {},
   "outputs": [],
   "source": [
    "webdriver_path = \"/content/chromedriver/chromedriver\"\n",
    "browser_path = \"/content/chrome/chrome\"\n",
    "enable_headless = True"
   ]
  },
  {
   "cell_type": "markdown",
   "id": "997d0838-45c0-4956-a753-e16ec31ea176",
   "metadata": {},
   "source": [
    "- 파일 명은 `rtings_url.xlsx`으로 하고, column 명은 `urls`으로 하여 `input_data`폴더에 넣어주세요"
   ]
  },
  {
   "cell_type": "code",
   "execution_count": null,
   "id": "ae276e80-1eb4-4561-9609-35b6ac3c9a5d",
   "metadata": {},
   "outputs": [],
   "source": [
    "## 불러온 데이터 경로\n",
    "file_name=\"rtings_url.xlsx\"\n",
    "file_path = intput_folder / file_name\n",
    "df = pd.read_excel(file_path)\n",
    "urls = df[\"urls\"]"
   ]
  },
  {
   "cell_type": "markdown",
   "id": "0429c013",
   "metadata": {},
   "source": [
    "## 실행"
   ]
  },
  {
   "cell_type": "code",
   "execution_count": null,
   "id": "04403ca4-778f-4866-b206-542d682ce23d",
   "metadata": {},
   "outputs": [],
   "source": [
    "for url in urls:\n",
    "    maker = url.split(\"/\")[-2]\n",
    "    model = url.split(\"/\")[-1]\n",
    "\n",
    "\n",
    "    rtings = Rtings(webdriver_path = webdriver_path, browser_path=browser_path, enable_headless=enable_headless)\n",
    "\n",
    "    # 저장할 데이터 경로\n",
    "    file_name = f\"{maker}_{model}_rtings_comments_{date.today().strftime('%Y-%m-%d')}.xlsx\"\n",
    "    comments_file_name= output_comments_folder/file_name\n",
    "    comments_df = rtings.get_commetns(url, format_df=True)\n",
    "    comments_df.to_excel(f\"{comments_file_name}\", index=False, sheet_name='comments')\n",
    "\n",
    "    # 저장할 데이터 경로\n",
    "    file_name = f\"{maker}_{model}_rtings_scores_{date.today().strftime('%Y-%m-%d')}.xlsx\"\n",
    "    scores_file_name = output_scores_folder/file_name\n",
    "    score_df= rtings.get_score(url,format_df=True)\n",
    "    score_df.to_excel(f\"{scores_file_name}\", index=False, sheet_name='scores')"
   ]
  },
  {
   "cell_type": "markdown",
   "id": "1cd68dd3",
   "metadata": {},
   "source": [
    "- colab에서 파일 받기"
   ]
  },
  {
   "cell_type": "code",
   "execution_count": null,
   "id": "6b6f31bc-00ae-4f77-aeb4-c566532aaa0b",
   "metadata": {},
   "outputs": [],
   "source": [
    "!zip -r /content/results_rtings.zip /content/results/\n",
    "files.download('/content/results_rtings.zip')"
   ]
  },
  {
   "cell_type": "markdown",
   "id": "22e7d3b1",
   "metadata": {},
   "source": [
    "---"
   ]
  }
 ],
 "metadata": {
  "kernelspec": {
   "display_name": "Python 3 (ipykernel)",
   "language": "python",
   "name": "python3"
  },
  "language_info": {
   "codemirror_mode": {
    "name": "ipython",
    "version": 3
   },
   "file_extension": ".py",
   "mimetype": "text/x-python",
   "name": "python",
   "nbconvert_exporter": "python",
   "pygments_lexer": "ipython3",
   "version": "3.10.13"
  },
  "toc": {
   "base_numbering": 1,
   "nav_menu": {},
   "number_sections": true,
   "sideBar": true,
   "skip_h1_title": false,
   "title_cell": "Table of Contents",
   "title_sidebar": "Contents",
   "toc_cell": false,
   "toc_position": {},
   "toc_section_display": true,
   "toc_window_display": false
  }
 },
 "nbformat": 4,
 "nbformat_minor": 5
}
