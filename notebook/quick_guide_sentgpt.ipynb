{
 "cells": [
  {
   "cell_type": "markdown",
   "id": "981e9f86-9707-4016-8132-81829909105d",
   "metadata": {},
   "source": [
    "# QuickGuide for Sentiment analyze\n",
    "\n",
    "[프로젝트 페이지: Research-on-the-TV-market](https://github.com/xikest/research-market-tv)"
   ]
  },
  {
   "cell_type": "markdown",
   "id": "632d7187-57a1-4314-8090-da0f903d20a8",
   "metadata": {},
   "source": [
    "## Env setting: Install Colab selenium & crome driver"
   ]
  },
  {
   "cell_type": "code",
   "execution_count": 12,
   "id": "6acd28c4-03fa-4021-877f-adc9d3d1c120",
   "metadata": {},
   "outputs": [],
   "source": [
    "import platform\n",
    "current_os = platform.system()\n",
    "if current_os == \"Linux\":\n",
    "    !pip install --upgrade pip\n",
    "    \n",
    "  # Install required Python packages\n",
    "    !pip install -U  matplotlib numpy openpyxl tqdm pandas seaborn openai \n",
    "    !pip install -U sentigpt\n",
    "\n",
    "elif current_os == \"Windows\":\n",
    "    print(\"windows\")\n",
    "else:\n",
    "    print(\"지원하지 않는 운영체제입니다.\")"
   ]
  },
  {
   "cell_type": "markdown",
   "id": "c3280e3d-ad0a-4ab6-9d94-a6bb93f7ef9f",
   "metadata": {},
   "source": [
    "## Env 세팅"
   ]
  },
  {
   "cell_type": "code",
   "execution_count": 46,
   "id": "fa6624f2-d92c-4a97-b449-f25b032a98ff",
   "metadata": {},
   "outputs": [],
   "source": [
    "import matplotlib.pyplot as plt\n",
    "from matplotlib.ticker import MaxNLocator\n",
    "import seaborn as sns\n",
    "from pathlib import Path\n",
    "import pandas as pd\n",
    "from google.colab import files\n",
    "from sentigpt import SentiGPT"
   ]
  },
  {
   "cell_type": "markdown",
   "id": "d4e98a0b-8fc6-40ed-9440-498eec5b269e",
   "metadata": {},
   "source": [
    "### 분석 폴더\n",
    "- `input_data`에 파일을 넣어주세요."
   ]
  },
  {
   "cell_type": "code",
   "execution_count": 15,
   "id": "1e268b53-a92f-406b-8e12-d1dbe811e903",
   "metadata": {},
   "outputs": [],
   "source": [
    "intput_folder = Path(\"input_data\")  # 폴더 이름을 지정\n",
    "\n",
    "# 폴더가 존재하지 않으면 폴더 생성\n",
    "if not intput_folder.exists():\n",
    "    intput_folder.mkdir(parents=True)\n",
    "\n",
    "output_folder = Path('results')  \n",
    "if not output_folder.exists():\n",
    "  output_folder.mkdir(parents=True, exist_ok=True)"
   ]
  },
  {
   "cell_type": "markdown",
   "id": "0f23211a-f304-46b4-b6a5-e3665cb1fa4e",
   "metadata": {},
   "source": [
    "### GPT setting\n",
    "- [GPT model info](https://platform.openai.com/docs/models/continuous-model-upgrades)"
   ]
  },
  {
   "cell_type": "code",
   "execution_count": 4,
   "id": "f8e1f42a-e096-429a-98c8-dbab63acd920",
   "metadata": {},
   "outputs": [],
   "source": [
    "API_KEY = \"\"\n",
    "gpt_model=\"gpt-3.5-turbo-1106\""
   ]
  },
  {
   "cell_type": "markdown",
   "id": "2470bb2d-486b-415b-84d1-7baa1b7606da",
   "metadata": {},
   "source": [
    "## 준비"
   ]
  },
  {
   "cell_type": "code",
   "execution_count": 3,
   "id": "74283a36-b154-4b64-b610-a9e3be8f4b84",
   "metadata": {},
   "outputs": [],
   "source": [
    "# 분석할 엑셀 파일이 있는 폴더 경로\n",
    "file_list = intput_folder.glob('*')\n",
    "excel_files = [file for file in file_list if file.suffix in {'.xlsx', '.xls'}]\n",
    "for excel_file in excel_files:\n",
    "    print(excel_file.name)"
   ]
  },
  {
   "cell_type": "code",
   "execution_count": 18,
   "id": "c09a4ab5-88c4-4787-8574-41b4386d390c",
   "metadata": {},
   "outputs": [],
   "source": [
    "stm = SentiGPT(api_key=API_KEY, gpt_model=gpt_model)"
   ]
  },
  {
   "cell_type": "markdown",
   "id": "9f054efe-e9bc-48c4-8e50-d9a3a7a05c6f",
   "metadata": {},
   "source": [
    "## 실행"
   ]
  },
  {
   "cell_type": "code",
   "execution_count": 19,
   "id": "9feebf58-ff8e-41f0-9801-d634566f66c4",
   "metadata": {},
   "outputs": [],
   "source": [
    "for excel_file in excel_files:\n",
    "    # 데이터 셋\n",
    "    excel_file_path = excel_file\n",
    "    df_uploaded = pd.read_excel(excel_file_path)\n",
    "    df_sentences = df_uploaded\n",
    "    \n",
    "    # GPT 분석\n",
    "    sentences_list = [sentence for sentence in df_sentences[\"sentences\"]]  # 리스트로 변환\n",
    "    keywords_list=[\"brightness\", \"color\", \"contrast\", \"reflection\", \"viewing angle\"]\n",
    "    analyzed_results_df = stm.analyze_sentences(sentences_list, keywords_list)\n",
    "    \n",
    "    # 분석 파일 저장\n",
    "    file_name=excel_file_path.name.split(\".\")[0]\n",
    "    output_file_path = output_folder/file_name\n",
    " \n",
    "    if not output_file_path.exists():\n",
    "        output_file_path.mkdir(parents=True, exist_ok=True)\n",
    "    analyzed_results_df.to_csv(output_file_path / f\"analyzed_results_{file_name}.csv\", index=False, encoding='utf-8')\n",
    "    \n",
    "    #그래프 만들기\n",
    "    # df_analyzed_results = analyzed_results_df - 5  #그래프 범위 조정\n",
    "    print(f\"{file_name}, Plot\")\n",
    "    stm.plot_hist_all(analyzed_results_df=analyzed_results_df, output_folder=output_file_path, file_name=file_name)\n",
    "    stm.plot_hist_each(analyzed_results_df=analyzed_results_df, output_folder=output_file_path, file_name=file_name)\n"
   ]
  },
  {
   "cell_type": "markdown",
   "id": "ca0474ee-b94e-44b7-8138-8dfb5f442620",
   "metadata": {},
   "source": [
    "- colab에서 파일 받기"
   ]
  },
  {
   "cell_type": "code",
   "execution_count": null,
   "id": "b04c0cd1-693e-424c-9698-c0863394118b",
   "metadata": {},
   "outputs": [],
   "source": [
    "!zip -r /content/results_sentgpt.zip /content/results/\n",
    "files.download('/content/results_sentgpt.zip')"
   ]
  },
  {
   "cell_type": "markdown",
   "id": "a60021f2-b566-4fc2-8f18-0caf5d90920f",
   "metadata": {},
   "source": [
    "---"
   ]
  }
 ],
 "metadata": {
  "kernelspec": {
   "display_name": "Python 3 (ipykernel)",
   "language": "python",
   "name": "python3"
  },
  "language_info": {
   "codemirror_mode": {
    "name": "ipython",
    "version": 3
   },
   "file_extension": ".py",
   "mimetype": "text/x-python",
   "name": "python",
   "nbconvert_exporter": "python",
   "pygments_lexer": "ipython3",
   "version": "3.10.13"
  }
 },
 "nbformat": 4,
 "nbformat_minor": 5
}
