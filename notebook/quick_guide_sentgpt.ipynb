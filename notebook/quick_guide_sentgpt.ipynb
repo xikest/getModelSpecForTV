{
 "cells": [
  {
   "cell_type": "markdown",
   "id": "981e9f86-9707-4016-8132-81829909105d",
   "metadata": {},
   "source": [
    "# QuickGuide for Sentiment analyze\n",
    "\n",
    "[프로젝트 페이지: Research-on-the-TV-market](https://github.com/xikest/research-market-tv)"
   ]
  },
  {
   "cell_type": "markdown",
   "id": "632d7187-57a1-4314-8090-da0f903d20a8",
   "metadata": {},
   "source": [
    "## Env setting: Install Colab selenium & crome driver"
   ]
  },
  {
   "cell_type": "code",
   "execution_count": 12,
   "id": "6acd28c4-03fa-4021-877f-adc9d3d1c120",
   "metadata": {},
   "outputs": [],
   "source": [
    "import platform\n",
    "current_os = platform.system()\n",
    "if current_os == \"Linux\":\n",
    "    !pip install --upgrade pip\n",
    "    \n",
    "  # Install required Python packages\n",
    "    !pip install -U  matplotlib numpy openpyxl tqdm pandas seaborn openai \n",
    "    !pip install -U sentigpt\n",
    "\n",
    "elif current_os == \"Windows\":\n",
    "    print(\"windows\")\n",
    "else:\n",
    "    print(\"지원하지 않는 운영체제입니다.\")"
   ]
  },
  {
   "cell_type": "markdown",
   "id": "c3280e3d-ad0a-4ab6-9d94-a6bb93f7ef9f",
   "metadata": {},
   "source": [
    "## Env 세팅"
   ]
  },
  {
   "cell_type": "code",
   "execution_count": 46,
   "id": "fa6624f2-d92c-4a97-b449-f25b032a98ff",
   "metadata": {},
   "outputs": [],
   "source": [
    "import matplotlib.pyplot as plt\n",
    "from matplotlib.ticker import MaxNLocator\n",
    "import seaborn as sns\n",
    "from sentigpt import SentiGPT\n",
    "from pathlib import Path\n",
    "import pandas as pd"
   ]
  },
  {
   "cell_type": "markdown",
   "id": "b776a61b-4910-4322-8d82-1b0aa176a395",
   "metadata": {},
   "source": [
    "### 시각화 function"
   ]
  },
  {
   "cell_type": "code",
   "execution_count": null,
   "id": "e871abce-040f-4979-b0f8-2a35af09e30f",
   "metadata": {},
   "outputs": [],
   "source": [
    "def plot_hist_each(df_analyzed_results, output_folder, file_name):\n",
    "    columns = df_analyzed_results.columns\n",
    "    for i, column in enumerate(columns):\n",
    "        sns.set_style(\"white\")\n",
    "        fig, axes = plt.subplots(figsize=(10, 4), sharey=True)\n",
    "        \n",
    "        sns.histplot(df_analyzed_results[column], kde=True, label=column, bins=10, binwidth=1,  ax=axes)\n",
    "        axes.set_ylabel(\"Density\")\n",
    "        axes.set_title(f\"{column}\")\n",
    "        # axes.legend(loc=\"upper right\")\n",
    "        axes.set_xlim(-5, 5)\n",
    "        axes.set_xlabel(\"\")\n",
    "        bins = range(-5,6)\n",
    "        axes.set_xticks(bins)\n",
    "        axes.yaxis.set_major_locator(MaxNLocator(integer=True))\n",
    "        sns.despine()\n",
    "        plt.tight_layout()\n",
    "        save_path = output_folder / f\"{file_name}_{column}_histogram.png\"\n",
    "        plt.savefig(save_path, format='png', dpi=300)\n",
    "        plt.show()\n",
    "\n",
    "\n",
    "def plot_hist_all(df_analyzed_results, output_folder, file_name):\n",
    "\n",
    "  sns.set(style=\"white\")\n",
    "  fig, axes = plt.subplots(figsize=(10, 4))\n",
    "\n",
    "\n",
    "  # 데이터프레임의 각 열에 대해 히스토그램 그리기\n",
    "  for i, column in enumerate(df_analyzed_results.columns):\n",
    "      color = sns.color_palette(\"Set1\", len(df_analyzed_results.columns))[i]  # Set1 컬러맵 사용\n",
    "      sns.histplot(df_analyzed_results[column], kde=True, label=column, bins=10, binwidth=1, ax=axes, color=color)\n",
    "\n",
    "  # x축 설정\n",
    "  axes.set_xlim(-5, 5)\n",
    "  bins = range(-5, 6)\n",
    "  axes.set_xticks(bins)\n",
    "\n",
    "  # y축 눈금 설정 (정수로)\n",
    "  axes.yaxis.set_major_locator(MaxNLocator(integer=True))\n",
    "\n",
    "  # 레이블 및 타이틀 설정\n",
    "  axes.set_ylabel(\"Density\")\n",
    "  axes.set_title(\"\")\n",
    "  axes.set_xlabel(\"\")\n",
    "\n",
    "  # 범례 표시\n",
    "  axes.legend()\n",
    "  sns.despine()\n",
    "\n",
    "  # 그래프 저장\n",
    "  save_path = output_folder / f\"{file_name}_all_columns_histogram.png\"\n",
    "  plt.savefig(save_path, format='png', dpi=300)\n",
    "\n",
    "  # 그래프 출력\n",
    "  plt.show()       "
   ]
  },
  {
   "cell_type": "markdown",
   "id": "d4e98a0b-8fc6-40ed-9440-498eec5b269e",
   "metadata": {},
   "source": [
    "### 분석 폴더\n",
    "- `input_data`에 파일을 넣어주세요."
   ]
  },
  {
   "cell_type": "code",
   "execution_count": 15,
   "id": "1e268b53-a92f-406b-8e12-d1dbe811e903",
   "metadata": {},
   "outputs": [],
   "source": [
    "intput_folder = Path(\"input_data\")  # 폴더 이름을 지정\n",
    "\n",
    "# 폴더가 존재하지 않으면 폴더 생성\n",
    "if not intput_folder.exists():\n",
    "    intput_folder.mkdir(parents=True)\n",
    "\n",
    "output_folder = Path('results')  \n",
    "if not output_folder.exists():\n",
    "  output_folder.mkdir(parents=True, exist_ok=True)"
   ]
  },
  {
   "cell_type": "markdown",
   "id": "0f23211a-f304-46b4-b6a5-e3665cb1fa4e",
   "metadata": {},
   "source": [
    "### open API key"
   ]
  },
  {
   "cell_type": "code",
   "execution_count": 4,
   "id": "f8e1f42a-e096-429a-98c8-dbab63acd920",
   "metadata": {},
   "outputs": [],
   "source": [
    "API_KEY = \"\""
   ]
  },
  {
   "cell_type": "markdown",
   "id": "2470bb2d-486b-415b-84d1-7baa1b7606da",
   "metadata": {},
   "source": [
    "## 준비"
   ]
  },
  {
   "cell_type": "code",
   "execution_count": 3,
   "id": "74283a36-b154-4b64-b610-a9e3be8f4b84",
   "metadata": {},
   "outputs": [],
   "source": [
    "# 분석할 엑셀 파일이 있는 폴더 경로\n",
    "file_list = intput_folder.glob('*')\n",
    "excel_files = [file for file in file_list if file.suffix in {'.xlsx', '.xls'}]\n",
    "for excel_file in excel_files:\n",
    "    print(excel_file.name)"
   ]
  },
  {
   "cell_type": "code",
   "execution_count": 18,
   "id": "c09a4ab5-88c4-4787-8574-41b4386d390c",
   "metadata": {},
   "outputs": [],
   "source": [
    "stm = SentiGPT(API_KEY)"
   ]
  },
  {
   "cell_type": "markdown",
   "id": "9f054efe-e9bc-48c4-8e50-d9a3a7a05c6f",
   "metadata": {},
   "source": [
    "## 실행"
   ]
  },
  {
   "cell_type": "code",
   "execution_count": 19,
   "id": "9feebf58-ff8e-41f0-9801-d634566f66c4",
   "metadata": {},
   "outputs": [],
   "source": [
    "for excel_file in excel_files:\n",
    "  # 데이터 셋\n",
    "  excel_file_path = excel_file\n",
    "  df_uploaded = pd.read_excel(excel_file_path)\n",
    "  df_sentences = df_uploaded\n",
    "\n",
    "  # GPT 분석\n",
    "  sentences_list = [sentence for sentence in df_sentences[\"sentences\"]]  # 리스트로 변환\n",
    "  keywords_list=[\"brightness\", \"color\", \"contrast\", \"reflection\", \"viewing angle\"]\n",
    "  analyzed_results_df = stm.analyze_sentences(sentences_list, keywords_list)\n",
    "\n",
    "  # 분석 파일 저장\n",
    "  file_name=excel_file_path.name.split(\".\")[0]\n",
    "  analyzed_results_df.to_csv(file_name, index=False, encoding='utf-8')\n",
    "\n",
    "  #그래프 만들기\n",
    "  df_analyzed_results = analyzed_results_df - 5  #그래프 범위 조정\n",
    "  print(f\"{file_name}, Plot\")\n",
    "  plot_hist_each(df_analyzed_results, output_folder=output_folder, file_name=file_name)\n",
    "  plot_hist_all(df_analyzed_results, output_folder=output_folder, file_name=file_name)"
   ]
  }
 ],
 "metadata": {
  "kernelspec": {
   "display_name": "Python 3 (ipykernel)",
   "language": "python",
   "name": "python3"
  },
  "language_info": {
   "codemirror_mode": {
    "name": "ipython",
    "version": 3
   },
   "file_extension": ".py",
   "mimetype": "text/x-python",
   "name": "python",
   "nbconvert_exporter": "python",
   "pygments_lexer": "ipython3",
   "version": "3.10.13"
  }
 },
 "nbformat": 4,
 "nbformat_minor": 5
}
