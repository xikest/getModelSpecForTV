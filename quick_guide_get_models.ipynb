{
 "cells": [
  {
   "cell_type": "markdown",
   "id": "1f063cfb",
   "metadata": {},
   "source": [
    "# QuickGuide for get models\n",
    "\n",
    "[프로젝트 페이지: Research-on-the-TV-market](https://github.com/xikest/research-market-tv)"
   ]
  },
  {
   "cell_type": "markdown",
   "id": "30216803",
   "metadata": {},
   "source": [
    "## Env setting: Install Colab selenium & crome driver"
   ]
  },
  {
   "cell_type": "code",
   "execution_count": null,
   "id": "a25efe6b-4cbe-49d6-83be-f55507d47a90",
   "metadata": {},
   "outputs": [],
   "source": [
    "!pip install -U pandas openpyxl tqdm\n",
    "!pip install -U requests selenium beautifulsoup4 \n",
    "!pip install -U wordcloud nltk \n",
    "!pip install -U openai \n",
    "!pip install -U matplotlib seaborn\n",
    "!pip install -U getmodelspec"
   ]
  },
  {
   "cell_type": "code",
   "execution_count": 2,
   "id": "dffd929a-1cb5-4445-b403-f3480fe3b2c8",
   "metadata": {},
   "outputs": [],
   "source": [
    "from market_research.tools.installer import Installer\n",
    "Installer.install_chrome_and_driver()"
   ]
  },
  {
   "cell_type": "markdown",
   "id": "6e1cbb67",
   "metadata": {},
   "source": [
    "## Env. 세팅"
   ]
  },
  {
   "cell_type": "code",
   "execution_count": 4,
   "id": "8e611f88",
   "metadata": {},
   "outputs": [],
   "source": [
    "from market_research import SONYSPEC, SONYSPEC_JP, PANASONICSPEC\n",
    "from market_research.tools import FileManager\n",
    "from datetime import date\n",
    "from google.colab import files\n",
    "from pathlib import Path"
   ]
  },
  {
   "cell_type": "code",
   "execution_count": null,
   "id": "4ac45040",
   "metadata": {},
   "outputs": [],
   "source": [
    "webdriver_path = \"/content/chromedriver/chromedriver\"\n",
    "browser_path = \"/content/chrome/chrome\"\n",
    "enable_headless = True"
   ]
  },
  {
   "cell_type": "code",
   "execution_count": null,
   "id": "ac9e9fec-07e4-44ac-ac9e-d6cf05d1b06a",
   "metadata": {},
   "outputs": [],
   "source": [
    "# 폴더가 존재하지 않으면 폴더 생성\n",
    "output_folder = Path('results_spec')  \n",
    "if not output_folder.exists():\n",
    "  output_folder.mkdir(parents=True, exist_ok=True)"
   ]
  },
  {
   "cell_type": "markdown",
   "id": "0429c013",
   "metadata": {},
   "source": [
    "## 실행"
   ]
  },
  {
   "cell_type": "code",
   "execution_count": null,
   "id": "04403ca4-778f-4866-b206-542d682ce23d",
   "metadata": {},
   "outputs": [],
   "source": [
    "sonyspec = SONYSPEC(webdriver_path = webdriver_path, browser_path=browser_path, enable_headless=enable_headless)\n",
    "dict_models = sonyspec.get_models_info()\n",
    "file_name_s = f\"sony_model_info_web_{date.today().strftime('%Y-%m-%d')}\"\n",
    "FileManager.dict_to_excel(dict_models, file_name=file_name_s, sheet_name=\"global\")"
   ]
  },
  {
   "cell_type": "code",
   "execution_count": null,
   "id": "1eccd54b-edf0-41ef-97d3-92b4bd79465f",
   "metadata": {},
   "outputs": [],
   "source": [
    "panasonicspec = PANASONICSPEC(webdriver_path = webdriver_path, browser_path=browser_path, enable_headless=enable_headless)\n",
    "dict_models = panasonicspec.get_models_info()\n",
    "file_name_p = f\"pana_jp_model_info_web_{date.today().strftime('%Y-%m-%d')}\"\n",
    "FileManager.dict_to_excel(dict_models, file_name=file_name_p, sheet_name=\"global\")"
   ]
  },
  {
   "cell_type": "code",
   "execution_count": null,
   "id": "bc92afec-369b-4235-b528-edc99dbf9750",
   "metadata": {},
   "outputs": [],
   "source": [
    "sonyspec_jp = SONYSPEC_JP(webdriver_path = webdriver_path, browser_path=browser_path, enable_headless=enable_headless)\n",
    "dict_models = sonyspec_jp.get_models_info()\n",
    "file_name_sjp = f\"sony_model_info_web_jp_{date.today().strftime('%Y-%m-%d')}\"\n",
    "FileManager.dict_to_excel(dict_models, file_name=file_name_sjp, sheet_name=\"jp\")"
   ]
  },
  {
   "cell_type": "markdown",
   "id": "1cd68dd3",
   "metadata": {},
   "source": [
    "- colab에서 파일 받기"
   ]
  },
  {
   "cell_type": "code",
   "execution_count": null,
   "id": "6b6f31bc-00ae-4f77-aeb4-c566532aaa0b",
   "metadata": {},
   "outputs": [],
   "source": [
    "!zip -r /content/results_spec.zip /content/results_spec\n",
    "files.download('/content/results_spec.zip')"
   ]
  },
  {
   "cell_type": "markdown",
   "id": "22e7d3b1",
   "metadata": {},
   "source": [
    "---"
   ]
  }
 ],
 "metadata": {
  "kernelspec": {
   "display_name": "Python 3 (ipykernel)",
   "language": "python",
   "name": "python3"
  },
  "language_info": {
   "codemirror_mode": {
    "name": "ipython",
    "version": 3
   },
   "file_extension": ".py",
   "mimetype": "text/x-python",
   "name": "python",
   "nbconvert_exporter": "python",
   "pygments_lexer": "ipython3",
   "version": "3.10.13"
  },
  "toc": {
   "base_numbering": 1,
   "nav_menu": {},
   "number_sections": true,
   "sideBar": true,
   "skip_h1_title": false,
   "title_cell": "Table of Contents",
   "title_sidebar": "Contents",
   "toc_cell": false,
   "toc_position": {},
   "toc_section_display": true,
   "toc_window_display": false
  }
 },
 "nbformat": 4,
 "nbformat_minor": 5
}
