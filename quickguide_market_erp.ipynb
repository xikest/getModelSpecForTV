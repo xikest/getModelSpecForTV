{
 "cells": [
  {
   "cell_type": "markdown",
   "id": "1f063cfb",
   "metadata": {
    "id": "1f063cfb"
   },
   "source": [
    "QuickGuide for marketmodels\n",
    "\n",
    "[프로젝트 페이지: Research-on-the-TV-market](https://github.com/xikest/research-market-tv)"
   ]
  },
  {
   "cell_type": "markdown",
   "id": "30216803",
   "metadata": {
    "id": "30216803"
   },
   "source": [
    "# Env setting: Install Colab selenium & crome driver"
   ]
  },
  {
   "cell_type": "code",
   "execution_count": null,
   "id": "a25efe6b-4cbe-49d6-83be-f55507d47a90",
   "metadata": {
    "id": "a25efe6b-4cbe-49d6-83be-f55507d47a90"
   },
   "outputs": [],
   "source": [
    "!pip install -U openpyxl tqdm --q\n",
    "!pip install -U requests selenium beautifulsoup4 --q\n",
    "!pip install -U matplotlib seaborn --q\n",
    "!pip install -U xik_tools mkt-retv --q"
   ]
  },
  {
   "cell_type": "markdown",
   "id": "6e1cbb67",
   "metadata": {
    "id": "6e1cbb67"
   },
   "source": [
    "# Import Package"
   ]
  },
  {
   "cell_type": "code",
   "execution_count": null,
   "id": "8e611f88",
   "metadata": {
    "id": "8e611f88"
   },
   "outputs": [],
   "source": [
    "from market_research.scraper import Erpsearcher\n",
    "from tools.file import GitMgt\n",
    "from datetime import datetime"
   ]
  },
  {
   "cell_type": "markdown",
   "id": "8e37db89-b7bf-4c61-8e74-6d5aa412001a",
   "metadata": {
    "id": "8e37db89-b7bf-4c61-8e74-6d5aa412001a"
   },
   "source": [
    "# 실행"
   ]
  },
  {
   "cell_type": "code",
   "execution_count": null,
   "id": "a65e8edb-eda6-4ad5-bdf6-0d6a99013274",
   "metadata": {},
   "outputs": [],
   "source": [
    "git_token = None\n",
    "git_repo = None"
   ]
  },
  {
   "cell_type": "code",
   "execution_count": null,
   "id": "70ca4fef-d8a7-42f6-b4e1-f9eb4b27ebb4",
   "metadata": {},
   "outputs": [],
   "source": [
    "owner = None\n",
    "repo = None\n",
    "folder_path = None"
   ]
  },
  {
   "cell_type": "code",
   "execution_count": null,
   "id": "89b1a8ad-f11a-4cdc-9380-7556d35cfd41",
   "metadata": {},
   "outputs": [],
   "source": [
    "today = datetime.now().strftime(\"%y%m%d\")"
   ]
  },
  {
   "cell_type": "markdown",
   "id": "03af03c9-3a93-4c18-a45c-889fd86e98cc",
   "metadata": {
    "id": "03af03c9-3a93-4c18-a45c-889fd86e98cc"
   },
   "source": [
    "## Erp"
   ]
  },
  {
   "cell_type": "code",
   "execution_count": null,
   "id": "fb4ab32d-4368-4e3d-903f-653ccc340ef7",
   "metadata": {
    "id": "fb4ab32d-4368-4e3d-903f-653ccc340ef7"
   },
   "outputs": [],
   "source": [
    "erp = Erpsearcher()\n",
    "df = erp.fetch_model_data()\n",
    "df.head(1)"
   ]
  },
  {
   "cell_type": "code",
   "execution_count": null,
   "id": "f0a3cdb7-026f-42a0-a490-da70db00182a",
   "metadata": {},
   "outputs": [],
   "source": [
    "try:\n",
    "    df = erp.fetch_model_data()\n",
    "    GitMgt.upload_json_to_github(df,  git_token, git_repo, file_name=f\"json/model_erp_data_{today}\" )\n",
    "except Exception as e:\n",
    "    print(e)"
   ]
  },
  {
   "cell_type": "markdown",
   "id": "6e376921-2f5b-4b0e-bfc3-069feb6a0939",
   "metadata": {},
   "source": [
    "# colab에서 파일 받기"
   ]
  },
  {
   "cell_type": "code",
   "execution_count": null,
   "id": "fa0d49f9-e1ef-41b5-afab-92f8d0912f84",
   "metadata": {},
   "outputs": [],
   "source": [
    "from google.colab import files\n",
    "!zip -r /content/results.zip /content/results\n",
    "files.download('/content/results.zip')"
   ]
  }
 ],
 "metadata": {
  "colab": {
   "provenance": []
  },
  "kernelspec": {
   "display_name": "Python 3 (ipykernel)",
   "language": "python",
   "name": "python3"
  },
  "language_info": {
   "codemirror_mode": {
    "name": "ipython",
    "version": 3
   },
   "file_extension": ".py",
   "mimetype": "text/x-python",
   "name": "python",
   "nbconvert_exporter": "python",
   "pygments_lexer": "ipython3",
   "version": "3.10.14"
  },
  "toc": {
   "base_numbering": 1,
   "nav_menu": {},
   "number_sections": true,
   "sideBar": true,
   "skip_h1_title": false,
   "title_cell": "Table of Contents",
   "title_sidebar": "Contents",
   "toc_cell": false,
   "toc_position": {},
   "toc_section_display": true,
   "toc_window_display": false
  }
 },
 "nbformat": 4,
 "nbformat_minor": 5
}
