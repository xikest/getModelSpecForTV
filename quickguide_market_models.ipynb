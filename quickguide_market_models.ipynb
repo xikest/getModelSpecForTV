{
 "cells": [
  {
   "cell_type": "markdown",
   "id": "1f063cfb",
   "metadata": {
    "id": "1f063cfb"
   },
   "source": [
    "QuickGuide for marketmodels\n",
    "\n",
    "[프로젝트 페이지: Research-on-the-TV-market](https://github.com/xikest/research-market-tv)"
   ]
  },
  {
   "cell_type": "markdown",
   "id": "30216803",
   "metadata": {
    "id": "30216803"
   },
   "source": [
    "# Env setting: Install Colab selenium & crome driver"
   ]
  },
  {
   "cell_type": "code",
   "execution_count": null,
   "id": "a25efe6b-4cbe-49d6-83be-f55507d47a90",
   "metadata": {
    "id": "a25efe6b-4cbe-49d6-83be-f55507d47a90"
   },
   "outputs": [],
   "source": [
    "!pip install -U openpyxl tqdm --q\n",
    "!pip install -U requests selenium beautifulsoup4 --q\n",
    "!pip install -U matplotlib seaborn --q\n",
    "!pip install -U xik_tools mkt-retv --q"
   ]
  },
  {
   "cell_type": "markdown",
   "id": "6e1cbb67",
   "metadata": {
    "id": "6e1cbb67"
   },
   "source": [
    "# Import Package"
   ]
  },
  {
   "cell_type": "code",
   "execution_count": null,
   "id": "8e611f88",
   "metadata": {
    "id": "8e611f88"
   },
   "outputs": [],
   "source": [
    "from market_research.scraper import Specscraper_s, Specscraper_sjp, Specscraper_s_g\n",
    "from market_research.scraper import Specscraper_l, Specscraper_l_g\n",
    "from market_research.scraper import Specscraper_se, Specscraper_se_g\n",
    "from market_research.scraper import Specscraper_p, Specscraper_pjp\n",
    "from market_research.scraper import Specscraper_t\n",
    "from market_research.scraper import DataVisualizer\n",
    "from tools.file import GitMgt\n",
    "from datetime import datetime"
   ]
  },
  {
   "cell_type": "markdown",
   "id": "8e37db89-b7bf-4c61-8e74-6d5aa412001a",
   "metadata": {
    "id": "8e37db89-b7bf-4c61-8e74-6d5aa412001a"
   },
   "source": [
    "# 실행"
   ]
  },
  {
   "cell_type": "code",
   "execution_count": null,
   "id": "9b81ab00-c1ae-43a1-b4dd-60f37beb2031",
   "metadata": {
    "id": "9b81ab00-c1ae-43a1-b4dd-60f37beb2031"
   },
   "outputs": [],
   "source": [
    "git_token = None\n",
    "git_repo = None"
   ]
  },
  {
   "cell_type": "code",
   "execution_count": null,
   "id": "0e4864b5-ce27-4dc0-9005-e9bf9aa5419f",
   "metadata": {
    "id": "0e4864b5-ce27-4dc0-9005-e9bf9aa5419f"
   },
   "outputs": [],
   "source": [
    "today = datetime.now().strftime(\"%y%m%d\")"
   ]
  },
  {
   "cell_type": "markdown",
   "id": "03af03c9-3a93-4c18-a45c-889fd86e98cc",
   "metadata": {
    "id": "03af03c9-3a93-4c18-a45c-889fd86e98cc"
   },
   "source": [
    "## sonyspec_tv"
   ]
  },
  {
   "cell_type": "code",
   "execution_count": null,
   "id": "31334444-18bc-4606-8d8f-df8d3e86f13a",
   "metadata": {
    "id": "31334444-18bc-4606-8d8f-df8d3e86f13a",
    "outputId": "5f04a897-62cc-473d-a92f-0a6241db8e93"
   },
   "outputs": [
    {
     "name": "stdout",
     "output_type": "stream",
     "text": [
      "operating demo\n"
     ]
    },
    {
     "name": "stderr",
     "output_type": "stream",
     "text": [
      "C:\\Users\\taest\\Documents\\github\\research_market_tv\\market_research\\scraper\\models\\visualizer\\data_cleaner.py:29: FutureWarning: DataFrame.fillna with 'method' is deprecated and will raise in a future version. Use obj.ffill() or obj.bfill() instead.\n",
      "  self.df = self.df.groupby('series').apply(lambda x: x.fillna(method='ffill').fillna(method='bfill')).reset_index(drop=True)\n"
     ]
    },
    {
     "data": {
      "text/html": [
       "<div>\n",
       "<style scoped>\n",
       "    .dataframe tbody tr th:only-of-type {\n",
       "        vertical-align: middle;\n",
       "    }\n",
       "\n",
       "    .dataframe tbody tr th {\n",
       "        vertical-align: top;\n",
       "    }\n",
       "\n",
       "    .dataframe thead th {\n",
       "        text-align: right;\n",
       "    }\n",
       "</style>\n",
       "<table border=\"1\" class=\"dataframe\">\n",
       "  <thead>\n",
       "    <tr style=\"text-align: right;\">\n",
       "      <th></th>\n",
       "      <th>model</th>\n",
       "      <th>description</th>\n",
       "      <th>price</th>\n",
       "      <th>price_original</th>\n",
       "      <th>price_gap</th>\n",
       "      <th>year</th>\n",
       "      <th>series</th>\n",
       "      <th>size</th>\n",
       "      <th>grade</th>\n",
       "      <th>text0</th>\n",
       "      <th>...</th>\n",
       "      <th>Twin Picture</th>\n",
       "      <th>X-Anti Reflection</th>\n",
       "      <th>X-Wide Angle</th>\n",
       "      <th>DSEE/DSEE-HX</th>\n",
       "      <th>Voice Remote Control (supply) included Rechargeable Battery</th>\n",
       "      <th>USB Type-C Cable</th>\n",
       "      <th>High Peak Luminance</th>\n",
       "      <th>Lithium Battery</th>\n",
       "      <th>DIMENSION OF TV WITH STAND (NARROW POSITION) (W x H x D)</th>\n",
       "      <th>DIMENSION OF TV WITH BUNDLED CAMERA (WITHOUT STAND) (W X H X D)</th>\n",
       "    </tr>\n",
       "  </thead>\n",
       "  <tbody>\n",
       "    <tr>\n",
       "      <th>0</th>\n",
       "      <td>k-65s30</td>\n",
       "      <td>BRAVIA 3 65” class LED 4K HDR Google TV (2024)</td>\n",
       "      <td>749.99</td>\n",
       "      <td>999.99</td>\n",
       "      <td>250</td>\n",
       "      <td>2024</td>\n",
       "      <td>s30</td>\n",
       "      <td>65</td>\n",
       "      <td>k</td>\n",
       "      <td>real-world colors in every shade and hue</td>\n",
       "      <td>...</td>\n",
       "      <td>None</td>\n",
       "      <td>None</td>\n",
       "      <td>None</td>\n",
       "      <td>NaN</td>\n",
       "      <td>None</td>\n",
       "      <td>None</td>\n",
       "      <td>None</td>\n",
       "      <td>None</td>\n",
       "      <td>None</td>\n",
       "      <td>None</td>\n",
       "    </tr>\n",
       "  </tbody>\n",
       "</table>\n",
       "<p>1 rows × 291 columns</p>\n",
       "</div>"
      ],
      "text/plain": [
       "     model                                     description   price  \\\n",
       "0  k-65s30  BRAVIA 3 65” class LED 4K HDR Google TV (2024)  749.99   \n",
       "\n",
       "   price_original  price_gap  year series  size grade  \\\n",
       "0          999.99        250  2024    s30    65     k   \n",
       "\n",
       "                                      text0  ... Twin Picture  \\\n",
       "0  real-world colors in every shade and hue  ...         None   \n",
       "\n",
       "  X-Anti Reflection X-Wide Angle DSEE/DSEE-HX  \\\n",
       "0              None         None          NaN   \n",
       "\n",
       "  Voice Remote Control (supply) included Rechargeable Battery  \\\n",
       "0                                               None            \n",
       "\n",
       "  USB Type-C Cable High Peak Luminance Lithium Battery  \\\n",
       "0             None                None            None   \n",
       "\n",
       "  DIMENSION OF TV WITH STAND (NARROW POSITION) (W x H x D)  \\\n",
       "0                                               None         \n",
       "\n",
       "  DIMENSION OF TV WITH BUNDLED CAMERA (WITHOUT STAND) (W X H X D)  \n",
       "0                                               None               \n",
       "\n",
       "[1 rows x 291 columns]"
      ]
     },
     "execution_count": 2,
     "metadata": {},
     "output_type": "execute_result"
    }
   ],
   "source": [
    "scraper_s = Specscraper_s()\n",
    "df = scraper_s.fetch_model_data()\n",
    "df.head(1)"
   ]
  },
  {
   "cell_type": "code",
   "execution_count": null,
   "id": "d71d554e-09c8-410b-a4ac-23ecedd43f0c",
   "metadata": {
    "id": "d71d554e-09c8-410b-a4ac-23ecedd43f0c"
   },
   "outputs": [],
   "source": [
    "try:\n",
    "    GitMgt.upload_json_to_github(df,  git_token, git_repo, file_name=f\"json/s_scrape_model_data_{today}\" )\n",
    "except:\n",
    "    pass\n",
    "    from datetime import datetime"
   ]
  },
  {
   "cell_type": "markdown",
   "id": "a497419e-3bcf-4cd5-b384-58e07af3f60a",
   "metadata": {},
   "source": [
    "## sonyspec_monitor"
   ]
  },
  {
   "cell_type": "code",
   "execution_count": null,
   "id": "fb4ab32d-4368-4e3d-903f-653ccc340ef7",
   "metadata": {},
   "outputs": [],
   "source": [
    "scraper_s_g = Specscraper_s_g()\n",
    "df = scraper_s_g.fetch_model_data()\n",
    "df.head(1)"
   ]
  },
  {
   "cell_type": "code",
   "execution_count": null,
   "id": "c8941168-38cb-47c2-85aa-7305e582bdf7",
   "metadata": {},
   "outputs": [],
   "source": [
    "try:\n",
    "    GitMgt.upload_json_to_github(df,  git_token, git_repo, file_name=f\"json/s_g_scrape_model_data_{today}\" )\n",
    "except:\n",
    "    pass\n",
    "    from datetime import datetime"
   ]
  },
  {
   "cell_type": "markdown",
   "id": "f652d259-3bc0-45e7-bb79-e09de80b4b6a",
   "metadata": {
    "id": "f652d259-3bc0-45e7-bb79-e09de80b4b6a"
   },
   "source": [
    "## lgespec_tv"
   ]
  },
  {
   "cell_type": "code",
   "execution_count": null,
   "id": "26151fab-8ecb-4cc9-9529-ce81e09a782e",
   "metadata": {
    "id": "26151fab-8ecb-4cc9-9529-ce81e09a782e",
    "outputId": "dd5cc5a2-12df-4837-ef46-6b2dd2b944a1"
   },
   "outputs": [
    {
     "name": "stdout",
     "output_type": "stream",
     "text": [
      "operating demo\n"
     ]
    },
    {
     "name": "stderr",
     "output_type": "stream",
     "text": [
      "C:\\Users\\taest\\Documents\\github\\research_market_tv\\market_research\\scraper\\models\\visualizer\\data_cleaner.py:29: FutureWarning:\n",
      "\n",
      "DataFrame.fillna with 'method' is deprecated and will raise in a future version. Use obj.ffill() or obj.bfill() instead.\n",
      "\n"
     ]
    },
    {
     "data": {
      "text/html": [
       "<div>\n",
       "<style scoped>\n",
       "    .dataframe tbody tr th:only-of-type {\n",
       "        vertical-align: middle;\n",
       "    }\n",
       "\n",
       "    .dataframe tbody tr th {\n",
       "        vertical-align: top;\n",
       "    }\n",
       "\n",
       "    .dataframe thead th {\n",
       "        text-align: right;\n",
       "    }\n",
       "</style>\n",
       "<table border=\"1\" class=\"dataframe\">\n",
       "  <thead>\n",
       "    <tr style=\"text-align: right;\">\n",
       "      <th></th>\n",
       "      <th>model</th>\n",
       "      <th>price</th>\n",
       "      <th>price_original</th>\n",
       "      <th>price_gap</th>\n",
       "      <th>description</th>\n",
       "      <th>grade</th>\n",
       "      <th>year</th>\n",
       "      <th>size</th>\n",
       "      <th>Display Resolution</th>\n",
       "      <th>Display Type</th>\n",
       "      <th>...</th>\n",
       "      <th>Headphone Output</th>\n",
       "      <th>Diagonal Size</th>\n",
       "      <th>Stand Width (Adjustable)</th>\n",
       "      <th>FreeSync Premium™</th>\n",
       "      <th>Brightness Booster</th>\n",
       "      <th>Latest HDMI (4K @ 120Hz)</th>\n",
       "      <th>Dolby Vision IQ</th>\n",
       "      <th>Backlight Dimming Technology</th>\n",
       "      <th>series</th>\n",
       "      <th>price_origisnal</th>\n",
       "    </tr>\n",
       "  </thead>\n",
       "  <tbody>\n",
       "    <tr>\n",
       "      <th>0</th>\n",
       "      <td>OLED77C3PUA</td>\n",
       "      <td>3499.99</td>\n",
       "      <td>3499.99</td>\n",
       "      <td>0</td>\n",
       "      <td></td>\n",
       "      <td>oled</td>\n",
       "      <td>2023</td>\n",
       "      <td>77</td>\n",
       "      <td>4K Ultra HD (3,840 x 2,160)</td>\n",
       "      <td>4K OLED</td>\n",
       "      <td>...</td>\n",
       "      <td>None</td>\n",
       "      <td>None</td>\n",
       "      <td>None</td>\n",
       "      <td>None</td>\n",
       "      <td>None</td>\n",
       "      <td>None</td>\n",
       "      <td>None</td>\n",
       "      <td>None</td>\n",
       "      <td>c3</td>\n",
       "      <td>NaN</td>\n",
       "    </tr>\n",
       "  </tbody>\n",
       "</table>\n",
       "<p>1 rows × 131 columns</p>\n",
       "</div>"
      ],
      "text/plain": [
       "         model    price  price_original  price_gap description grade  year  \\\n",
       "0  OLED77C3PUA  3499.99         3499.99          0              oled  2023   \n",
       "\n",
       "   size           Display Resolution Display Type  ... Headphone Output  \\\n",
       "0    77  4K Ultra HD (3,840 x 2,160)      4K OLED  ...             None   \n",
       "\n",
       "  Diagonal Size Stand Width (Adjustable) FreeSync Premium™ Brightness Booster  \\\n",
       "0          None                     None              None               None   \n",
       "\n",
       "  Latest HDMI (4K @ 120Hz) Dolby Vision IQ Backlight Dimming Technology  \\\n",
       "0                     None            None                         None   \n",
       "\n",
       "  series price_origisnal  \n",
       "0     c3             NaN  \n",
       "\n",
       "[1 rows x 131 columns]"
      ]
     },
     "execution_count": 6,
     "metadata": {},
     "output_type": "execute_result"
    }
   ],
   "source": [
    "scraper_l = Specscraper_l()\n",
    "df = scraper_l.fetch_model_data()\n",
    "df.head(1)"
   ]
  },
  {
   "cell_type": "code",
   "execution_count": null,
   "id": "8d236e5e-eb0c-4786-9662-4068c1c6967c",
   "metadata": {
    "id": "8d236e5e-eb0c-4786-9662-4068c1c6967c"
   },
   "outputs": [],
   "source": [
    "try:\n",
    "    GitMgt.upload_json_to_github(df,  git_token, git_repo, file_name=f\"l_scrape_model_data_{today}\" )\n",
    "except:\n",
    "    pass"
   ]
  },
  {
   "cell_type": "markdown",
   "id": "0cf420de-a957-437b-91eb-ef7a03d87f79",
   "metadata": {},
   "source": [
    "## lgespec_monitor"
   ]
  },
  {
   "cell_type": "code",
   "execution_count": null,
   "id": "3066965b-c144-42d8-8f2a-b82d4b6264d2",
   "metadata": {},
   "outputs": [],
   "source": [
    "scraper_l_g = Specscraper_l_g()\n",
    "df = scraper_l_g.fetch_model_data()\n",
    "df.head(1)"
   ]
  },
  {
   "cell_type": "code",
   "execution_count": null,
   "id": "b04d539b-47fe-40a1-aae8-8e8771dc6c92",
   "metadata": {},
   "outputs": [],
   "source": [
    "try:\n",
    "    GitMgt.upload_json_to_github(df,  git_token, git_repo, file_name=f\"l_g_scrape_model_data_{today}\" )\n",
    "except:\n",
    "    pass"
   ]
  },
  {
   "cell_type": "markdown",
   "id": "eec2160a-ccbd-4e23-9c62-32c0cfd15482",
   "metadata": {
    "id": "eec2160a-ccbd-4e23-9c62-32c0cfd15482"
   },
   "source": [
    "## sse_spec_tv"
   ]
  },
  {
   "cell_type": "code",
   "execution_count": null,
   "id": "7e08d9a5-ddaf-4504-aaf6-0590b095cbd0",
   "metadata": {
    "id": "7e08d9a5-ddaf-4504-aaf6-0590b095cbd0",
    "outputId": "e677f826-6377-4055-b2f0-725254991cd8",
    "scrolled": true
   },
   "outputs": [
    {
     "name": "stdout",
     "output_type": "stream",
     "text": [
      "operating demo\n"
     ]
    },
    {
     "name": "stderr",
     "output_type": "stream",
     "text": [
      "C:\\Users\\taest\\Documents\\github\\research_market_tv\\market_research\\scraper\\models\\visualizer\\data_cleaner.py:29: FutureWarning:\n",
      "\n",
      "DataFrame.fillna with 'method' is deprecated and will raise in a future version. Use obj.ffill() or obj.bfill() instead.\n",
      "\n"
     ]
    },
    {
     "data": {
      "text/html": [
       "<div>\n",
       "<style scoped>\n",
       "    .dataframe tbody tr th:only-of-type {\n",
       "        vertical-align: middle;\n",
       "    }\n",
       "\n",
       "    .dataframe tbody tr th {\n",
       "        vertical-align: top;\n",
       "    }\n",
       "\n",
       "    .dataframe thead th {\n",
       "        text-align: right;\n",
       "    }\n",
       "</style>\n",
       "<table border=\"1\" class=\"dataframe\">\n",
       "  <thead>\n",
       "    <tr style=\"text-align: right;\">\n",
       "      <th></th>\n",
       "      <th>model</th>\n",
       "      <th>description</th>\n",
       "      <th>price</th>\n",
       "      <th>price_original</th>\n",
       "      <th>price_gap</th>\n",
       "      <th>grade</th>\n",
       "      <th>size</th>\n",
       "      <th>year</th>\n",
       "      <th>series</th>\n",
       "      <th>display type</th>\n",
       "      <th>...</th>\n",
       "      <th>Wired TV On - Samsung WOL</th>\n",
       "      <th>Cloud Service</th>\n",
       "      <th>PC on TV</th>\n",
       "      <th>Media Bay Space (WxHxD)</th>\n",
       "      <th>Batteries (for Remote Control)</th>\n",
       "      <th>Quantum Matrix Pro with mini LEDs</th>\n",
       "      <th>Apps Platform</th>\n",
       "      <th>Remote Control Battery</th>\n",
       "      <th>HDR OLED</th>\n",
       "      <th>Set Weight (lb)</th>\n",
       "    </tr>\n",
       "  </thead>\n",
       "  <tbody>\n",
       "    <tr>\n",
       "      <th>0</th>\n",
       "      <td>QN55Q80CAFXZA</td>\n",
       "      <td>55\" Class QLED 4K Q80C</td>\n",
       "      <td>899.99</td>\n",
       "      <td>1199.99</td>\n",
       "      <td>300</td>\n",
       "      <td>qn</td>\n",
       "      <td>55</td>\n",
       "      <td>2023</td>\n",
       "      <td>q80c</td>\n",
       "      <td>None</td>\n",
       "      <td>...</td>\n",
       "      <td>None</td>\n",
       "      <td>None</td>\n",
       "      <td>None</td>\n",
       "      <td>None</td>\n",
       "      <td>None</td>\n",
       "      <td>None</td>\n",
       "      <td>None</td>\n",
       "      <td>None</td>\n",
       "      <td>None</td>\n",
       "      <td>NaN</td>\n",
       "    </tr>\n",
       "  </tbody>\n",
       "</table>\n",
       "<p>1 rows × 303 columns</p>\n",
       "</div>"
      ],
      "text/plain": [
       "           model             description   price  price_original  price_gap  \\\n",
       "0  QN55Q80CAFXZA  55\" Class QLED 4K Q80C  899.99         1199.99        300   \n",
       "\n",
       "  grade  size  year series display type  ... Wired TV On - Samsung WOL  \\\n",
       "0    qn    55  2023   q80c         None  ...                      None   \n",
       "\n",
       "  Cloud Service PC on TV Media Bay Space (WxHxD)  \\\n",
       "0          None     None                    None   \n",
       "\n",
       "  Batteries (for Remote Control) Quantum Matrix Pro with mini LEDs  \\\n",
       "0                           None                              None   \n",
       "\n",
       "  Apps Platform Remote Control Battery HDR OLED Set Weight (lb)  \n",
       "0          None                   None     None             NaN  \n",
       "\n",
       "[1 rows x 303 columns]"
      ]
     },
     "execution_count": 11,
     "metadata": {},
     "output_type": "execute_result"
    }
   ],
   "source": [
    "scraper_se = Specscraper_se()\n",
    "df = scraper_se.fetch_model_data()\n",
    "df.head(1)"
   ]
  },
  {
   "cell_type": "code",
   "execution_count": null,
   "id": "e8bbaafb-d983-49d4-9325-7e5939503070",
   "metadata": {
    "id": "e8bbaafb-d983-49d4-9325-7e5939503070"
   },
   "outputs": [],
   "source": [
    "try:\n",
    "    GitMgt.upload_json_to_github(df,  git_token, git_repo, file_name=f\"se_scrape_model_data_{today}\" )\n",
    "except:\n",
    "    pass"
   ]
  },
  {
   "cell_type": "markdown",
   "id": "772b76b3-4174-492d-a272-dc95eedac691",
   "metadata": {},
   "source": [
    "## sse_spec_monitor"
   ]
  },
  {
   "cell_type": "code",
   "execution_count": null,
   "id": "41350c61-171b-46ac-881d-71030f14fa7f",
   "metadata": {},
   "outputs": [],
   "source": [
    "scraper_se_g = Specscraper_se_g()\n",
    "df = scraper_se_g.fetch_model_data()\n",
    "df.head(1)"
   ]
  },
  {
   "cell_type": "code",
   "execution_count": null,
   "id": "6f3710f2-74c7-46d1-976d-395d8768843a",
   "metadata": {},
   "outputs": [],
   "source": [
    "try:\n",
    "    GitMgt.upload_json_to_github(df,  git_token, git_repo, file_name=f\"se_g_scrape_model_data_{today}\" )\n",
    "except:\n",
    "    pass"
   ]
  },
  {
   "cell_type": "markdown",
   "id": "012fbc6e-9a24-4c73-bb4f-edd383d7fda9",
   "metadata": {
    "id": "012fbc6e-9a24-4c73-bb4f-edd383d7fda9"
   },
   "source": [
    "## panasonic_spec_tv"
   ]
  },
  {
   "cell_type": "code",
   "execution_count": null,
   "id": "KPTXygM7iGYk",
   "metadata": {
    "id": "KPTXygM7iGYk"
   },
   "outputs": [],
   "source": [
    "scraper_p = Specscraper_p()\n",
    "df = scraper_p.fetch_model_data()\n",
    "df.head(1)"
   ]
  },
  {
   "cell_type": "code",
   "execution_count": null,
   "id": "8QBcaJ7biGbz",
   "metadata": {
    "id": "8QBcaJ7biGbz"
   },
   "outputs": [],
   "source": [
    "try:\n",
    "    GitMgt.upload_json_to_github(df,  git_token, git_repo, file_name=f\"p_scrape_model_data_{today}\" )\n",
    "except:\n",
    "    pass"
   ]
  },
  {
   "cell_type": "markdown",
   "id": "96d53df8-76f5-4a29-a715-7ad08d5e08ca",
   "metadata": {},
   "source": [
    "## tcl_cspec_tv"
   ]
  },
  {
   "cell_type": "code",
   "execution_count": null,
   "id": "fda81636-9929-4c28-98dd-b9dad09bf85a",
   "metadata": {},
   "outputs": [],
   "source": [
    "scraper_t = Specscraper_t()\n",
    "df = scraper_t.fetch_model_data()\n",
    "df.head(1)"
   ]
  },
  {
   "cell_type": "code",
   "execution_count": null,
   "id": "65913f6e-d935-410f-a507-573c05edfa68",
   "metadata": {},
   "outputs": [],
   "source": [
    "try:\n",
    "    GitMgt.upload_json_to_github(df,  git_token, git_repo, file_name=f\"t_scrape_model_data_{today}\" )\n",
    "except:\n",
    "    pass"
   ]
  },
  {
   "cell_type": "markdown",
   "id": "e2511087-6ff4-49f5-b1b7-f473f046a9eb",
   "metadata": {
    "id": "e2511087-6ff4-49f5-b1b7-f473f046a9eb",
    "jp-MarkdownHeadingCollapsed": true
   },
   "source": [
    "## sonyspec_jp"
   ]
  },
  {
   "cell_type": "code",
   "execution_count": null,
   "id": "2d8d6f42-9486-45a0-8514-0ba41e3b4e4d",
   "metadata": {
    "id": "2d8d6f42-9486-45a0-8514-0ba41e3b4e4d"
   },
   "outputs": [],
   "source": [
    "scraper_sjp = Specscraper_sjp()\n",
    "df_sjp_models = scraper_sjp.get_models_info()"
   ]
  },
  {
   "cell_type": "markdown",
   "id": "45f391a7-a11a-42d4-a47a-f49cdb19b543",
   "metadata": {
    "id": "45f391a7-a11a-42d4-a47a-f49cdb19b543"
   },
   "source": [
    "## panasonicspec_jp (under repair)"
   ]
  },
  {
   "cell_type": "code",
   "execution_count": null,
   "id": "043da2e6-e206-4a28-b982-c87f2cbfe0e0",
   "metadata": {
    "id": "043da2e6-e206-4a28-b982-c87f2cbfe0e0"
   },
   "outputs": [],
   "source": [
    "scraper_pjp = Specscraper_pjp()\n",
    "df_pjp_models = scraper_pjp.get_models_info()"
   ]
  },
  {
   "cell_type": "markdown",
   "id": "52bec6ef-28e6-4320-911b-ecf402534e81",
   "metadata": {},
   "source": [
    "# 파일 읽기"
   ]
  },
  {
   "cell_type": "code",
   "execution_count": null,
   "id": "296444ee-3314-4854-8b11-001e5e55cd1d",
   "metadata": {},
   "outputs": [],
   "source": [
    "owner = None\n",
    "repo = None\n",
    "folder_path = None"
   ]
  },
  {
   "cell_type": "code",
   "execution_count": null,
   "id": "0bae8158-d642-4bd1-bba9-bdad5a50d508",
   "metadata": {},
   "outputs": [],
   "source": [
    "files_dict = get_github_files_as_dict(owner, repo, folder_path)\n",
    "try:\n",
    "    GitMgt.upload_json_to_github(files_dict,  git_token, git_repo, file_name=f\"stream_data_list\" )\n",
    "except:\n",
    "    pass"
   ]
  },
  {
   "cell_type": "markdown",
   "id": "1cd68dd3",
   "metadata": {
    "id": "1cd68dd3"
   },
   "source": [
    "# colab에서 파일 받기"
   ]
  },
  {
   "cell_type": "code",
   "execution_count": null,
   "id": "6b6f31bc-00ae-4f77-aeb4-c566532aaa0b",
   "metadata": {
    "id": "6b6f31bc-00ae-4f77-aeb4-c566532aaa0b"
   },
   "outputs": [],
   "source": [
    "from google.colab import files\n",
    "!zip -r /content/results.zip /content/results\n",
    "files.download('/content/results.zip')"
   ]
  },
  {
   "cell_type": "markdown",
   "id": "22e7d3b1",
   "metadata": {
    "id": "22e7d3b1"
   },
   "source": [
    "---"
   ]
  }
 ],
 "metadata": {
  "colab": {
   "provenance": []
  },
  "kernelspec": {
   "display_name": "Python 3 (ipykernel)",
   "language": "python",
   "name": "python3"
  },
  "language_info": {
   "codemirror_mode": {
    "name": "ipython",
    "version": 3
   },
   "file_extension": ".py",
   "mimetype": "text/x-python",
   "name": "python",
   "nbconvert_exporter": "python",
   "pygments_lexer": "ipython3",
   "version": "3.10.14"
  },
  "toc": {
   "base_numbering": 1,
   "nav_menu": {},
   "number_sections": true,
   "sideBar": true,
   "skip_h1_title": false,
   "title_cell": "Table of Contents",
   "title_sidebar": "Contents",
   "toc_cell": false,
   "toc_position": {},
   "toc_section_display": true,
   "toc_window_display": false
  }
 },
 "nbformat": 4,
 "nbformat_minor": 5
}
