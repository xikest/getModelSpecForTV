{
 "cells": [
  {
   "cell_type": "markdown",
   "id": "1f063cfb",
   "metadata": {
    "id": "1f063cfb"
   },
   "source": [
    "QuickGuide for marketmodels\n",
    "\n",
    "[프로젝트 페이지: Research-on-the-TV-market](https://github.com/xikest/research-market-tv)"
   ]
  },
  {
   "cell_type": "markdown",
   "id": "30216803",
   "metadata": {
    "id": "30216803",
    "jp-MarkdownHeadingCollapsed": true
   },
   "source": [
    "# Env setting: Install Colab selenium & crome driver"
   ]
  },
  {
   "cell_type": "code",
   "execution_count": 17,
   "id": "a25efe6b-4cbe-49d6-83be-f55507d47a90",
   "metadata": {
    "id": "a25efe6b-4cbe-49d6-83be-f55507d47a90"
   },
   "outputs": [],
   "source": [
    "!pip install -U openpyxl tqdm --q\n",
    "!pip install -U requests selenium beautifulsoup4 --q\n",
    "!pip install -U matplotlib seaborn --q\n",
    "!pip install -U mkt-retv --q\n",
    "!pip install -U xik_tools --q"
   ]
  },
  {
   "cell_type": "code",
   "execution_count": 18,
   "id": "dffd929a-1cb5-4445-b403-f3480fe3b2c8",
   "metadata": {
    "id": "dffd929a-1cb5-4445-b403-f3480fe3b2c8"
   },
   "outputs": [],
   "source": [
    "from tools.web import Installer\n",
    "Installer.install_chrome_and_driver()"
   ]
  },
  {
   "cell_type": "markdown",
   "id": "6e1cbb67",
   "metadata": {
    "id": "6e1cbb67",
    "jp-MarkdownHeadingCollapsed": true
   },
   "source": [
    "# Import Package"
   ]
  },
  {
   "cell_type": "code",
   "execution_count": 1,
   "id": "8e611f88",
   "metadata": {
    "id": "8e611f88"
   },
   "outputs": [],
   "source": [
    "from market_research.scraper import Specscraper_s, Specscraper_sjp\n",
    "from market_research.scraper import Specscraper_l\n",
    "from market_research.scraper import Specscraper_p, Specscraper_pjp\n",
    "from market_research.scraper import DataVisualizer"
   ]
  },
  {
   "cell_type": "markdown",
   "id": "8e37db89-b7bf-4c61-8e74-6d5aa412001a",
   "metadata": {
    "id": "8e37db89-b7bf-4c61-8e74-6d5aa412001a"
   },
   "source": [
    "# 실행"
   ]
  },
  {
   "cell_type": "markdown",
   "id": "03af03c9-3a93-4c18-a45c-889fd86e98cc",
   "metadata": {
    "id": "03af03c9-3a93-4c18-a45c-889fd86e98cc"
   },
   "source": [
    "## sonyspec"
   ]
  },
  {
   "cell_type": "markdown",
   "id": "HWBcVunLwrW7",
   "metadata": {
    "id": "HWBcVunLwrW7",
    "jp-MarkdownHeadingCollapsed": true
   },
   "source": [
    "### data"
   ]
  },
  {
   "cell_type": "code",
   "execution_count": 1,
   "id": "04403ca4-778f-4866-b206-542d682ce23d",
   "metadata": {
    "id": "04403ca4-778f-4866-b206-542d682ce23d"
   },
   "outputs": [],
   "source": [
    "scraper_s = Specscraper_s()\n",
    "df_s_models = scraper_s.get_models_info()"
   ]
  },
  {
   "cell_type": "markdown",
   "id": "a96cbc6a-645e-490e-ae44-a3f98a4a5d8b",
   "metadata": {
    "id": "a96cbc6a-645e-490e-ae44-a3f98a4a5d8b",
    "jp-MarkdownHeadingCollapsed": true
   },
   "source": [
    "### Plot"
   ]
  },
  {
   "cell_type": "code",
   "execution_count": 6,
   "id": "0d40ec7d-2d9a-4aad-9dcc-cfc94a7cc19d",
   "metadata": {
    "id": "0d40ec7d-2d9a-4aad-9dcc-cfc94a7cc19d"
   },
   "outputs": [],
   "source": [
    "visualizer_s = DataVisualizer(df_s_models)"
   ]
  },
  {
   "cell_type": "code",
   "execution_count": 2,
   "id": "bc263e1b-b629-4f6a-ab96-68705bb47114",
   "metadata": {
    "colab": {
     "base_uri": "https://localhost:8080/",
     "height": 0
    },
    "id": "bc263e1b-b629-4f6a-ab96-68705bb47114",
    "outputId": "e723a2e7-3d33-4a70-ef5e-9199862b1198"
   },
   "outputs": [],
   "source": [
    "visualizer_s.heatmap_spec(display_types=['oled','lcd', 'led', 'mini led'])"
   ]
  },
  {
   "cell_type": "code",
   "execution_count": null,
   "id": "ace63a40-e618-4548-9cff-4dda96662d53",
   "metadata": {},
   "outputs": [],
   "source": [
    "visualizer_s.price_map()"
   ]
  },
  {
   "cell_type": "markdown",
   "id": "f652d259-3bc0-45e7-bb79-e09de80b4b6a",
   "metadata": {
    "id": "f652d259-3bc0-45e7-bb79-e09de80b4b6a",
    "jp-MarkdownHeadingCollapsed": true
   },
   "source": [
    "## lgespec"
   ]
  },
  {
   "cell_type": "code",
   "execution_count": 21,
   "id": "8f72887e-3ec3-4b33-aeda-d4534bf08906",
   "metadata": {
    "id": "8f72887e-3ec3-4b33-aeda-d4534bf08906"
   },
   "outputs": [],
   "source": [
    "scraper_l = Specscraper_l()\n",
    "df_l_models = scraper_l.get_models_info()"
   ]
  },
  {
   "cell_type": "markdown",
   "id": "012fbc6e-9a24-4c73-bb4f-edd383d7fda9",
   "metadata": {
    "id": "012fbc6e-9a24-4c73-bb4f-edd383d7fda9",
    "jp-MarkdownHeadingCollapsed": true
   },
   "source": [
    "## panasonicspec"
   ]
  },
  {
   "cell_type": "code",
   "execution_count": 14,
   "id": "1eccd54b-edf0-41ef-97d3-92b4bd79465f",
   "metadata": {
    "id": "1eccd54b-edf0-41ef-97d3-92b4bd79465f"
   },
   "outputs": [],
   "source": [
    "scraper_p = Specscraper_p()\n",
    "df_p_models = scraper_p.get_models_info()"
   ]
  },
  {
   "cell_type": "markdown",
   "id": "e2511087-6ff4-49f5-b1b7-f473f046a9eb",
   "metadata": {
    "id": "e2511087-6ff4-49f5-b1b7-f473f046a9eb",
    "jp-MarkdownHeadingCollapsed": true
   },
   "source": [
    "## sonyspec_jp"
   ]
  },
  {
   "cell_type": "code",
   "execution_count": 13,
   "id": "2d8d6f42-9486-45a0-8514-0ba41e3b4e4d",
   "metadata": {
    "id": "2d8d6f42-9486-45a0-8514-0ba41e3b4e4d"
   },
   "outputs": [],
   "source": [
    "scraper_sjp = Specscraper_sjp()\n",
    "df_sjp_models = scraper_sjp.get_models_info()"
   ]
  },
  {
   "cell_type": "markdown",
   "id": "45f391a7-a11a-42d4-a47a-f49cdb19b543",
   "metadata": {
    "id": "45f391a7-a11a-42d4-a47a-f49cdb19b543",
    "jp-MarkdownHeadingCollapsed": true
   },
   "source": [
    "## panasonicspec_jp"
   ]
  },
  {
   "cell_type": "code",
   "execution_count": null,
   "id": "043da2e6-e206-4a28-b982-c87f2cbfe0e0",
   "metadata": {
    "id": "043da2e6-e206-4a28-b982-c87f2cbfe0e0"
   },
   "outputs": [],
   "source": [
    "scraper_pjp = Specscraper_pjp()\n",
    "df_pjp_models = scraper_pjp.get_models_info()"
   ]
  },
  {
   "cell_type": "markdown",
   "id": "1cd68dd3",
   "metadata": {
    "id": "1cd68dd3",
    "jp-MarkdownHeadingCollapsed": true
   },
   "source": [
    "# colab에서 파일 받기"
   ]
  },
  {
   "cell_type": "code",
   "execution_count": null,
   "id": "6b6f31bc-00ae-4f77-aeb4-c566532aaa0b",
   "metadata": {
    "id": "6b6f31bc-00ae-4f77-aeb4-c566532aaa0b"
   },
   "outputs": [],
   "source": [
    "from google.colab import files\n",
    "!zip -r /content/results.zip /content/results\n",
    "files.download('/content/results.zip')"
   ]
  },
  {
   "cell_type": "markdown",
   "id": "22e7d3b1",
   "metadata": {
    "id": "22e7d3b1"
   },
   "source": [
    "---"
   ]
  }
 ],
 "metadata": {
  "colab": {
   "provenance": []
  },
  "kernelspec": {
   "display_name": "Python 3 (ipykernel)",
   "language": "python",
   "name": "python3"
  },
  "language_info": {
   "codemirror_mode": {
    "name": "ipython",
    "version": 3
   },
   "file_extension": ".py",
   "mimetype": "text/x-python",
   "name": "python",
   "nbconvert_exporter": "python",
   "pygments_lexer": "ipython3",
   "version": "3.10.14"
  },
  "toc": {
   "base_numbering": 1,
   "nav_menu": {},
   "number_sections": true,
   "sideBar": true,
   "skip_h1_title": false,
   "title_cell": "Table of Contents",
   "title_sidebar": "Contents",
   "toc_cell": false,
   "toc_position": {},
   "toc_section_display": true,
   "toc_window_display": false
  }
 },
 "nbformat": 4,
 "nbformat_minor": 5
}
