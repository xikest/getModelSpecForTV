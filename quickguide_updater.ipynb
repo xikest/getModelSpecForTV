{
 "cells": [
  {
   "cell_type": "markdown",
   "id": "1f063cfb",
   "metadata": {
    "id": "1f063cfb"
   },
   "source": [
    "QuickGuide for updater\n",
    "\n",
    "[프로젝트 페이지: Research-on-the-TV-market](https://github.com/xikest/research-market-tv)"
   ]
  },
  {
   "cell_type": "markdown",
   "id": "30216803",
   "metadata": {
    "id": "30216803"
   },
   "source": [
    "# Env setting"
   ]
  },
  {
   "cell_type": "code",
   "execution_count": 13,
   "id": "a25efe6b-4cbe-49d6-83be-f55507d47a90",
   "metadata": {
    "id": "a25efe6b-4cbe-49d6-83be-f55507d47a90"
   },
   "outputs": [],
   "source": [
    "!pip install -U openpyxl tqdm --q\n",
    "!pip install -U requests selenium beautifulsoup4 --q\n",
    "!pip install -U matplotlib seaborn --q\n",
    "!pip install -U xik_tools mkt-retv --q"
   ]
  },
  {
   "cell_type": "markdown",
   "id": "6e1cbb67",
   "metadata": {
    "id": "6e1cbb67"
   },
   "source": [
    "# Import Package"
   ]
  },
  {
   "cell_type": "code",
   "execution_count": 1,
   "id": "8e611f88",
   "metadata": {
    "id": "8e611f88"
   },
   "outputs": [],
   "source": [
    "from market_research.scraper import Specscraper_s, Specscraper_l, Specscraper_se\n",
    "from market_research.scraper import Rtings, Rurlsearcher, Rvisualizer\n",
    "from tools.file import GitMgt\n",
    "from datetime import datetime"
   ]
  },
  {
   "cell_type": "markdown",
   "id": "8e37db89-b7bf-4c61-8e74-6d5aa412001a",
   "metadata": {
    "id": "8e37db89-b7bf-4c61-8e74-6d5aa412001a"
   },
   "source": [
    "# 실행"
   ]
  },
  {
   "cell_type": "code",
   "execution_count": 4,
   "id": "9b81ab00-c1ae-43a1-b4dd-60f37beb2031",
   "metadata": {},
   "outputs": [],
   "source": [
    "git_token = None \n",
    "git_repo = None "
   ]
  },
  {
   "cell_type": "code",
   "execution_count": null,
   "id": "855a82f5-fae5-402f-9640-86328fe6adf5",
   "metadata": {},
   "outputs": [],
   "source": [
    "today = datetime.now().strftime(\"%y%m%d\")"
   ]
  },
  {
   "cell_type": "code",
   "execution_count": 1,
   "id": "31334444-18bc-4606-8d8f-df8d3e86f13a",
   "metadata": {},
   "outputs": [],
   "source": [
    "cls_scrapers = [Specscraper_s, Specscraper_l, Specscraper_se]\n",
    "for cls_scraper in cls_scrapers:\n",
    "    try:\n",
    "        scraper = cls_scraper()\n",
    "        df = scraper.fetch_model_data()\n",
    "        GitMgt.upload_json_to_github(df,  git_token, git_repo, file_name=f\"json/s_scrape_model_data_{today}\" )\n",
    "    except: \n",
    "        pass"
   ]
  },
  {
   "cell_type": "code",
   "execution_count": null,
   "id": "5fce07a7-d0fc-4d70-8a68-ece2674ebb03",
   "metadata": {},
   "outputs": [],
   "source": [
    "rurlsearcher = Rurlsearcher()\n",
    "rtings = Rtings()\n",
    "\n",
    "try:\n",
    "    urls_dict = rurlsearcher.get_urls_with_model_info()\n",
    "    data_dict = rtings.get_data(urls_dict)\n",
    "    GitMgt.upload_json_to_github(data_dict.get(\"measurement\"),  git_token, git_repo, file_name=f\"json/rtings_measurement_data_{today}\" )\n",
    "    GitMgt.upload_json_to_github(data_dict.get(\"scores\"),  git_token, git_repo, file_name=f\"json/rtings_scores_data_{today}\" )\n",
    "except: \n",
    "    pass"
   ]
  }
 ],
 "metadata": {
  "colab": {
   "provenance": []
  },
  "kernelspec": {
   "display_name": "Python 3 (ipykernel)",
   "language": "python",
   "name": "python3"
  },
  "language_info": {
   "codemirror_mode": {
    "name": "ipython",
    "version": 3
   },
   "file_extension": ".py",
   "mimetype": "text/x-python",
   "name": "python",
   "nbconvert_exporter": "python",
   "pygments_lexer": "ipython3",
   "version": "3.10.14"
  },
  "toc": {
   "base_numbering": 1,
   "nav_menu": {},
   "number_sections": true,
   "sideBar": true,
   "skip_h1_title": false,
   "title_cell": "Table of Contents",
   "title_sidebar": "Contents",
   "toc_cell": false,
   "toc_position": {},
   "toc_section_display": true,
   "toc_window_display": false
  }
 },
 "nbformat": 4,
 "nbformat_minor": 5
}
