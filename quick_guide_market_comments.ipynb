{
 "cells": [
  {
   "cell_type": "markdown",
   "id": "1f063cfb",
   "metadata": {},
   "source": [
    "# QuickGuide for markets comments\n",
    "\n",
    "[프로젝트 페이지: Research-on-the-TV-market](https://github.com/xikest/research-market-tv)"
   ]
  },
  {
   "cell_type": "markdown",
   "id": "30216803",
   "metadata": {},
   "source": [
    "## Env setting: Install Colab selenium & crome driver"
   ]
  },
  {
   "cell_type": "code",
   "execution_count": null,
   "id": "a25efe6b-4cbe-49d6-83be-f55507d47a90",
   "metadata": {},
   "outputs": [],
   "source": [
    "!pip install -U pandas openpyxl tqdm\n",
    "!pip install -U requests selenium beautifulsoup4 \n",
    "!pip install -U wordcloud nltk \n",
    "!pip install -U openai \n",
    "!pip install -U matplotlib seaborn\n",
    "!pip install -U getmodelspec"
   ]
  },
  {
   "cell_type": "code",
   "execution_count": 2,
   "id": "dffd929a-1cb5-4445-b403-f3480fe3b2c8",
   "metadata": {},
   "outputs": [],
   "source": [
    "from market_research.tools.installer import Installer\n",
    "Installer.install_chrome_and_driver()"
   ]
  },
  {
   "cell_type": "markdown",
   "id": "6e1cbb67",
   "metadata": {},
   "source": [
    "## Env. 세팅"
   ]
  },
  {
   "cell_type": "code",
   "execution_count": 4,
   "id": "8e611f88",
   "metadata": {},
   "outputs": [],
   "source": [
    "from market_research.tools import FileManager\n",
    "from datetime import date\n",
    "from google.colab import files\n",
    "from pathlib import Path"
   ]
  },
  {
   "cell_type": "code",
   "execution_count": null,
   "id": "afd32e6c-9f06-4180-8e75-0cc53c368ef2",
   "metadata": {},
   "outputs": [],
   "source": [
    "import time\n",
    "from bs4 import BeautifulSoup\n",
    "import pandas as pd\n",
    "import requests\n",
    "from market_research.tools import WebDriver\n",
    "\n",
    "\n",
    "class Amazon():\n",
    "    def __init__(self, webdriver_path: str, browser_path: str=None, enable_headless=True):\n",
    "        self.web_driver = WebDriver(executable_path=webdriver_path, browser_path=browser_path, headless=enable_headless)\n",
    "        self.wait_time = 1\n",
    "\n",
    "\n",
    "    def get_allcomments(self,url:str=\"https://www.amazon.com/Sony-QD-OLED-7-1-4ch-Theater-Speaker/product-reviews/B0CBDJKR1V/ref=cm_cr_dp_d_show_all_btm?ie=UTF8&reviewerType=all_reviews\",\n",
    "                        maker=None, product=None) -> list:\n",
    "\n",
    "        allcomments_list = []\n",
    "        page = 0\n",
    "        last_comment=None\n",
    "        while True:\n",
    "            page +=1\n",
    "            driver = self.web_driver.get_chrome()\n",
    "            page_url =  f\"{url}&pageNumber={page}\".lower()\n",
    "            print(f\"connecting to {page_url}\")\n",
    "            driver.get(page_url)\n",
    "            time.sleep(self.wait_time)\n",
    "            page_source = driver.page_source\n",
    "            soup = BeautifulSoup(page_source, 'html.parser')\n",
    "            allcomments_list.extend(self._get_comments(soup=soup, url=url, maker=maker, product=product))\n",
    "            driver.quit()\n",
    "            print(f\"ppp: {allcomments_list[-1]['Comments']}\")\n",
    "            try:\n",
    "                if last_comment is not None:\n",
    "                    print(f\"last_comment1: {last_comment}\")\n",
    "                    print(f\"last_comment2: {allcomments_list[-1]['Comments']}\")\n",
    "                    print(last_comment == allcomments_list[-1]['Comments'])\n",
    "                    if last_comment == allcomments_list[-1]['Comments']:\n",
    "                        break\n",
    "                    else:\n",
    "                        last_comment = allcomments_list[-1]['Comments']\n",
    "            except Exception as e:\n",
    "                print(\"error\")\n",
    "                print(e)\n",
    "                break  # 만약 다음 페이지가 없으면 반복문을 종료합니다.\n",
    "\n",
    "        df=pd.DataFrame(allcomments_list)\n",
    "        df = df.reset_index()\n",
    "        # print(df.head())\n",
    "        # print(df.tail())\n",
    "        df.to_csv('test.csv', index=False)\n",
    "        return allcomments_list\n",
    "\n",
    "\n",
    "    def _get_comments(self, soup, url=None, maker=None, product=None) -> list:\n",
    "        quote_contents = soup.find_all('div', class_='a-row a-spacing-small review-data')\n",
    "        comments_list = []\n",
    "        for quote_content in quote_contents:\n",
    "            comments = quote_content.span.get_text(strip=True)\n",
    "            comments_list.append({\"url\":url, 'Maker': maker, 'Product': product, 'Comments': comments})\n",
    "            # print(\"comments:\", comments)\n",
    "        return comments_list\n"
   ]
  },
  {
   "cell_type": "code",
   "execution_count": null,
   "id": "4ac45040",
   "metadata": {},
   "outputs": [],
   "source": [
    "webdriver_path = \"/content/chromedriver/chromedriver\"\n",
    "browser_path = \"/content/chrome/chrome\"\n",
    "enable_headless = True"
   ]
  },
  {
   "cell_type": "code",
   "execution_count": null,
   "id": "ac9e9fec-07e4-44ac-ac9e-d6cf05d1b06a",
   "metadata": {},
   "outputs": [],
   "source": [
    "# 폴더가 존재하지 않으면 폴더 생성\n",
    "output_folder = Path('results_comments')  \n",
    "if not output_folder.exists():\n",
    "  output_folder.mkdir(parents=True, exist_ok=True)"
   ]
  },
  {
   "cell_type": "markdown",
   "id": "8e37db89-b7bf-4c61-8e74-6d5aa412001a",
   "metadata": {},
   "source": [
    "## 실행"
   ]
  },
  {
   "cell_type": "markdown",
   "id": "03af03c9-3a93-4c18-a45c-889fd86e98cc",
   "metadata": {},
   "source": [
    "### amazon"
   ]
  },
  {
   "cell_type": "code",
   "execution_count": null,
   "id": "04403ca4-778f-4866-b206-542d682ce23d",
   "metadata": {},
   "outputs": [],
   "source": [
    "amazon = Amazon(webdriver_path = webdriver_path, browser_path=browser_path, enable_headless=enable_headless)\n",
    "comments_dict = amazon.get_allcomments()"
   ]
  },
  {
   "cell_type": "markdown",
   "id": "1cd68dd3",
   "metadata": {},
   "source": [
    "- colab에서 파일 받기"
   ]
  },
  {
   "cell_type": "code",
   "execution_count": null,
   "id": "6b6f31bc-00ae-4f77-aeb4-c566532aaa0b",
   "metadata": {},
   "outputs": [],
   "source": [
    "!zip -r /content/results_spec.zip /content/results_spec\n",
    "files.download('/content/results_spec.zip')"
   ]
  },
  {
   "cell_type": "markdown",
   "id": "22e7d3b1",
   "metadata": {},
   "source": [
    "---"
   ]
  }
 ],
 "metadata": {
  "kernelspec": {
   "display_name": "Python 3 (ipykernel)",
   "language": "python",
   "name": "python3"
  },
  "language_info": {
   "codemirror_mode": {
    "name": "ipython",
    "version": 3
   },
   "file_extension": ".py",
   "mimetype": "text/x-python",
   "name": "python",
   "nbconvert_exporter": "python",
   "pygments_lexer": "ipython3",
   "version": "3.10.13"
  },
  "toc": {
   "base_numbering": 1,
   "nav_menu": {},
   "number_sections": true,
   "sideBar": true,
   "skip_h1_title": false,
   "title_cell": "Table of Contents",
   "title_sidebar": "Contents",
   "toc_cell": false,
   "toc_position": {},
   "toc_section_display": true,
   "toc_window_display": false
  }
 },
 "nbformat": 4,
 "nbformat_minor": 5
}
