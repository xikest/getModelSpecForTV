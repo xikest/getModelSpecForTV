{
 "cells": [
  {
   "cell_type": "markdown",
   "id": "1f063cfb",
   "metadata": {},
   "source": [
    "# QuickGuide for Rtings\n",
    "\n",
    "[프로젝트 페이지: Research-on-the-TV-market](https://github.com/xikest/research-market-tv)"
   ]
  },
  {
   "cell_type": "markdown",
   "id": "30216803",
   "metadata": {},
   "source": [
    "## Env setting: Install Colab selenium & crome driver"
   ]
  },
  {
   "cell_type": "code",
   "execution_count": null,
   "id": "d5ebe2a1-4d88-4b02-9db5-2a8b3a40540e",
   "metadata": {},
   "outputs": [],
   "source": [
    "!pip install -U pandas openpyxl tqdm\n",
    "!pip install -U requests selenium beautifulsoup4 \n",
    "!pip install -U wordcloud nltk \n",
    "!pip install -U openai \n",
    "!pip install -U matplotlib seaborn\n",
    "!pip install -U getmodelspec"
   ]
  },
  {
   "cell_type": "code",
   "execution_count": 3,
   "id": "4bee41ea-4783-46e8-91bc-eaf5d4804317",
   "metadata": {},
   "outputs": [],
   "source": [
    "from market_research.tools.installer import Installer\n",
    "Installer.install_chrome_and_driver()"
   ]
  },
  {
   "cell_type": "markdown",
   "id": "6e1cbb67",
   "metadata": {},
   "source": [
    "## Env. 세팅"
   ]
  },
  {
   "cell_type": "code",
   "execution_count": 1,
   "id": "8e611f88",
   "metadata": {},
   "outputs": [],
   "source": [
    "from datetime import date\n",
    "from pathlib import Path\n",
    "import pandas as pd\n",
    "from google.colab import files\n",
    "# from market_research import Rtings\n",
    "from market_research.tools import FileManager"
   ]
  },
  {
   "cell_type": "code",
   "execution_count": null,
   "id": "a10024e2-cb40-4ca9-9024-7295be32e8b1",
   "metadata": {},
   "outputs": [],
   "source": [
    "import time\n",
    "from selenium.webdriver.common.by import By\n",
    "from bs4 import BeautifulSoup\n",
    "import pandas as pd\n",
    "import re\n",
    "from market_research.tools import WebDriver\n",
    "class Rtings():\n",
    "    def __init__(self, webdriver_path: str, browser_path: str=None, enable_headless=True):\n",
    "        self.web_driver = WebDriver(executable_path=webdriver_path, browser_path=browser_path, headless=enable_headless)\n",
    "        self.wait_time = 1\n",
    "\n",
    "    def get_score(self, url:str=\"https://www.rtings.com/tv/reviews/sony/a95l-oled\", format_df=True) :\n",
    "        \"\"\"\n",
    "        return type\n",
    "        -> dict|pd.DataFrame\n",
    "        \"\"\"\n",
    "\n",
    "        driver = self.web_driver.get_chrome()\n",
    "        maker = url.split(\"/\")[-2]\n",
    "        model = url.split(\"/\")[-1]\n",
    "        url = url.lower()\n",
    "        print(f\"connecting to {url}\")\n",
    "        # 웹 페이지 로드\n",
    "        driver.get(url)\n",
    "        time.sleep(self.wait_time)\n",
    "\n",
    "        # scorecard-row-content 클래스를 가진 요소들을 선택\n",
    "        elements = driver.find_elements(By.CLASS_NAME, \"scorecard-row-content\")\n",
    "        maker_dict = {}\n",
    "        try:\n",
    "            score_dict = {}\n",
    "            for element in elements:\n",
    "                label = element.find_element(By.CLASS_NAME, 'scorecard-row-name').text.strip()\n",
    "                score = element.find_element(By.CLASS_NAME, 'e-score_box-value ').text.strip()\n",
    "                score_dict[label] = score\n",
    "\n",
    "            # WebDriver 종료\n",
    "            driver.quit()\n",
    "\n",
    "            model_dict = {model:score_dict}\n",
    "            maker_dict = {maker:model_dict}\n",
    "\n",
    "            rows = []\n",
    "            # 딕셔너리를 순회하며 데이터프레임 행으로 추가\n",
    "            for maker, models in maker_dict.items():\n",
    "                for model, scores in models.items():\n",
    "                    for score_type, score in scores.items():\n",
    "                        rows.append({'Maker': maker, 'Model': model, 'Score Type': score_type, 'Score': score})\n",
    "            scores_df = pd.DataFrame(rows)\n",
    "            scores_dict = scores_df.to_dict()\n",
    "            # print(\"df\")\n",
    "            # print(dict_data)\n",
    "            if format_df:\n",
    "                return scores_df\n",
    "            else:\n",
    "                return scores_dict\n",
    "\n",
    "        except Exception as e:\n",
    "            print(f\"get specification error: {e}\")\n",
    "            # WebDriver 종료\n",
    "            driver.quit()\n",
    "\n",
    "\n",
    "\n",
    "    def get_commetns(self, url:str=\"https://www.rtings.com/tv/reviews/sony/a95l-oled\", format_df=True, min_sentence_length = 15):\n",
    "        \"\"\"\n",
    "        return dict or DataFrame\n",
    "\n",
    "        \"\"\"\n",
    "\n",
    "        # Selenium을 사용하여 웹 드라이버 시작\n",
    "        driver = self.web_driver.get_chrome()\n",
    "        maker = url.split(\"/\")[-2]\n",
    "        product = url.split(\"/\")[-1]\n",
    "        url = url.lower()\n",
    "        # url = url +\"#page-comments\"\n",
    "        print(f\"connecting to {url}\")\n",
    "        driver.get(url)\n",
    "        time.sleep(self.wait_time)\n",
    "        ## Load More 버튼 열기\n",
    "        while True:\n",
    "            try:\n",
    "                button_div = driver.find_element(By.CLASS_NAME, \"comment_list-footer\")\n",
    "                button = button_div.find_element(By.CLASS_NAME, \"e-button\")\n",
    "                button.click()\n",
    "                time.sleep(1)\n",
    "            except:\n",
    "                break\n",
    "        try:\n",
    "            page_source = driver.page_source\n",
    "            soup = BeautifulSoup(page_source, 'html.parser')\n",
    "            comment_contents = soup.find_all('div', class_='comment_list-item-content e-discussion_content is-newest')\n",
    "            comments_list = []\n",
    "            for idx, comment_content in enumerate(comment_contents):\n",
    "                quote_controls = comment_content.find('div', class_='quote-controls')\n",
    "                if quote_controls:\n",
    "                    quote_controls.decompose()\n",
    "                quote_content = comment_content.find('div', class_='quote-content')\n",
    "                if quote_content:\n",
    "                    quote_content.decompose()\n",
    "                comment_text = comment_content.get_text(strip=True, separator='\\n')\n",
    "                comment_text = re.sub(r'https?://\\S+', '', comment_text)\n",
    "\n",
    "                # min_sentence_length 길이 이상의 문장만 분석\n",
    "                if len(comment_text.split()) >= min_sentence_length:\n",
    "                    comments_list.append(\n",
    "                        {'idx': idx, 'maker': maker, 'product': product, 'sentences': comment_text})\n",
    "            comments_df = pd.DataFrame(comments_list).set_index(\"idx\")\n",
    "            comments_dict = comments_df.to_dict()\n",
    "        finally:\n",
    "            driver.quit()\n",
    "\n",
    "        if format_df:\n",
    "            return comments_df\n",
    "        else:\n",
    "            return comments_dict\n"
   ]
  },
  {
   "cell_type": "markdown",
   "id": "6a2b21aa-7bf2-4e1e-9540-4db922069088",
   "metadata": {},
   "source": [
    "### 분석 폴더\n",
    "- `input_data`: 검색할 데이터 폴더\n",
    "- `results`: 검색된 데이터 폴더"
   ]
  },
  {
   "cell_type": "code",
   "execution_count": 2,
   "id": "61b29bb0-c3c9-40dc-93c9-1858e9bf0dba",
   "metadata": {},
   "outputs": [],
   "source": [
    "intput_folder = Path(\"input_urls\")  # 폴더 이름을 지정\n",
    "\n",
    "# 폴더가 존재하지 않으면 폴더 생성\n",
    "if not intput_folder.exists():\n",
    "    intput_folder.mkdir(parents=True)\n",
    "\n",
    "output_comments_folder = Path('results/comments')  \n",
    "if not output_comments_folder.exists():\n",
    "  output_comments_folder.mkdir(parents=True, exist_ok=True)\n",
    "    \n",
    "output_scores_folder = Path('results/scores')  \n",
    "if not output_scores_folder.exists():\n",
    "  output_scores_folder.mkdir(parents=True, exist_ok=True)"
   ]
  },
  {
   "cell_type": "markdown",
   "id": "f02b7d40-921f-4b43-8b65-d9c3e6f92cc6",
   "metadata": {},
   "source": [
    "## 준비"
   ]
  },
  {
   "cell_type": "code",
   "execution_count": 3,
   "id": "4ac45040",
   "metadata": {},
   "outputs": [],
   "source": [
    "webdriver_path = \"/content/chromedriver/chromedriver\"\n",
    "browser_path = \"/content/chrome/chrome\"\n",
    "enable_headless = True"
   ]
  },
  {
   "cell_type": "markdown",
   "id": "997d0838-45c0-4956-a753-e16ec31ea176",
   "metadata": {},
   "source": [
    "- 엑셀 파일의 column 명은 `urls`으로 하여 `input_urls`폴더에 넣어주세요"
   ]
  },
  {
   "cell_type": "code",
   "execution_count": 5,
   "id": "98c006be-6c8a-4808-a4ec-59ecbe9f1d56",
   "metadata": {},
   "outputs": [],
   "source": [
    "# 분석할 엑셀 파일이 있는 폴더 경로\n",
    "file_list = intput_folder.glob('*')\n",
    "excel_files = [file for file in file_list if file.suffix in {'.xlsx', '.xls'}]\n",
    "urls=[]\n",
    "for excel_file in excel_files:\n",
    "    df = pd.read_excel(excel_file)\n",
    "    urls.extend(df[\"urls\"])"
   ]
  },
  {
   "cell_type": "markdown",
   "id": "0429c013",
   "metadata": {},
   "source": [
    "## 실행"
   ]
  },
  {
   "cell_type": "code",
   "execution_count": null,
   "id": "04403ca4-778f-4866-b206-542d682ce23d",
   "metadata": {},
   "outputs": [],
   "source": [
    "for url in urls:\n",
    "    maker = url.split(\"/\")[-2]\n",
    "    model = url.split(\"/\")[-1]\n",
    "\n",
    "\n",
    "    rtings = Rtings(webdriver_path = webdriver_path, browser_path=browser_path, enable_headless=enable_headless)\n",
    "\n",
    "    # 저장할 데이터 경로\n",
    "    file_name = f\"{maker}_{model}_rtings_comments_{date.today().strftime('%Y-%m-%d')}.xlsx\"\n",
    "    comments_file_name= output_comments_folder/file_name\n",
    "    comments_df = rtings.get_commetns(url, format_df=True)\n",
    "    comments_df.to_excel(f\"{comments_file_name}\", index=False, sheet_name='comments')\n",
    "\n",
    "    # 저장할 데이터 경로\n",
    "    file_name = f\"{maker}_{model}_rtings_scores_{date.today().strftime('%Y-%m-%d')}.xlsx\"\n",
    "    scores_file_name = output_scores_folder/file_name\n",
    "    score_df= rtings.get_score(url,format_df=True)\n",
    "    score_df.to_excel(f\"{scores_file_name}\", index=False, sheet_name='scores')"
   ]
  },
  {
   "cell_type": "markdown",
   "id": "1cd68dd3",
   "metadata": {},
   "source": [
    "- colab에서 파일 받기"
   ]
  },
  {
   "cell_type": "code",
   "execution_count": null,
   "id": "6b6f31bc-00ae-4f77-aeb4-c566532aaa0b",
   "metadata": {},
   "outputs": [],
   "source": [
    "!zip -r /content/results_rtings.zip /content/results/\n",
    "files.download('/content/results_rtings.zip')"
   ]
  },
  {
   "cell_type": "markdown",
   "id": "22e7d3b1",
   "metadata": {},
   "source": [
    "---"
   ]
  }
 ],
 "metadata": {
  "kernelspec": {
   "display_name": "Python 3 (ipykernel)",
   "language": "python",
   "name": "python3"
  },
  "language_info": {
   "codemirror_mode": {
    "name": "ipython",
    "version": 3
   },
   "file_extension": ".py",
   "mimetype": "text/x-python",
   "name": "python",
   "nbconvert_exporter": "python",
   "pygments_lexer": "ipython3",
   "version": "3.10.13"
  },
  "toc": {
   "base_numbering": 1,
   "nav_menu": {},
   "number_sections": true,
   "sideBar": true,
   "skip_h1_title": false,
   "title_cell": "Table of Contents",
   "title_sidebar": "Contents",
   "toc_cell": false,
   "toc_position": {},
   "toc_section_display": true,
   "toc_window_display": false
  }
 },
 "nbformat": 4,
 "nbformat_minor": 5
}
