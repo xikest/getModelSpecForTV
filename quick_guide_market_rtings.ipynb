{
 "cells": [
  {
   "cell_type": "markdown",
   "id": "1f063cfb",
   "metadata": {},
   "source": [
    "# QuickGuide for Rtings\n",
    "\n",
    "[프로젝트 페이지: Research-on-the-TV-market](https://github.com/xikest/research-market-tv)"
   ]
  },
  {
   "cell_type": "markdown",
   "id": "30216803",
   "metadata": {},
   "source": [
    "## Env setting: Install Colab selenium & crome driver"
   ]
  },
  {
   "cell_type": "code",
   "execution_count": null,
   "id": "d5ebe2a1-4d88-4b02-9db5-2a8b3a40540e",
   "metadata": {},
   "outputs": [],
   "source": [
    "!pip install -U pandas openpyxl tqdm\n",
    "!pip install -U requests selenium beautifulsoup4 \n",
    "!pip install -U wordcloud nltk \n",
    "!pip install -U scikit-learn openai \n",
    "!pip install -U matplotlib seaborn\n",
    "!pip install -U getmodelspec"
   ]
  },
  {
   "cell_type": "code",
   "execution_count": 3,
   "id": "4bee41ea-4783-46e8-91bc-eaf5d4804317",
   "metadata": {},
   "outputs": [],
   "source": [
    "from market_research.tools.installer import Installer\n",
    "Installer.install_chrome_and_driver()"
   ]
  },
  {
   "cell_type": "markdown",
   "id": "6e1cbb67",
   "metadata": {},
   "source": [
    "## Env. 세팅"
   ]
  },
  {
   "cell_type": "code",
   "execution_count": 1,
   "id": "8e611f88",
   "metadata": {},
   "outputs": [],
   "source": [
    "from datetime import date\n",
    "from pathlib import Path\n",
    "import numpy as np\n",
    "import pandas as pd\n",
    "import matplotlib.pyplot as plt\n",
    "import seaborn as sns\n",
    "from google.colab import files\n",
    "from market_research import Rtings\n",
    "from market_research.tools import FileManager"
   ]
  },
  {
   "cell_type": "markdown",
   "id": "6a2b21aa-7bf2-4e1e-9540-4db922069088",
   "metadata": {},
   "source": [
    "### 분석 폴더 생성\n",
    "- `input_data`: 검색할 데이터 폴더\n",
    "- `results`: 검색된 데이터 폴더"
   ]
  },
  {
   "cell_type": "code",
   "execution_count": 2,
   "id": "61b29bb0-c3c9-40dc-93c9-1858e9bf0dba",
   "metadata": {},
   "outputs": [],
   "source": [
    "intput_folder = Path(\"input_urls\")  # 폴더 이름을 지정\n",
    "if not intput_folder.exists():\n",
    "    intput_folder.mkdir(parents=True)\n",
    "\n",
    "output_folder = Path('results')  \n",
    "if not output_folder.exists():\n",
    "  output_folder.mkdir(parents=True, exist_ok=True)"
   ]
  },
  {
   "cell_type": "markdown",
   "id": "f02b7d40-921f-4b43-8b65-d9c3e6f92cc6",
   "metadata": {},
   "source": [
    "## 준비"
   ]
  },
  {
   "cell_type": "code",
   "execution_count": 3,
   "id": "4ac45040",
   "metadata": {},
   "outputs": [],
   "source": [
    "webdriver_path = \"/content/chromedriver/chromedriver\"\n",
    "browser_path = \"/content/chrome/chrome\"\n",
    "enable_headless = True"
   ]
  },
  {
   "cell_type": "markdown",
   "id": "997d0838-45c0-4956-a753-e16ec31ea176",
   "metadata": {},
   "source": [
    "- 엑셀 파일의 column 명은 `urls.xlsx`으로 하여 `input_urls`폴더에 넣어주세요"
   ]
  },
  {
   "cell_type": "code",
   "execution_count": null,
   "id": "12cd06a3-c728-4ade-8295-e1d49981dab6",
   "metadata": {},
   "outputs": [],
   "source": [
    "urls=[\"https://www.rtings.com/tv/reviews/sony/a95l-oled\",\n",
    "      \"https://www.rtings.com/tv/reviews/lg/g3-oled\",\n",
    "      \"https://www.rtings.com/tv/reviews/sony/a80l-a80cl-oled\",\n",
    "      \"https://www.rtings.com/tv/reviews/lg/c3-oled\",\n",
    "      \"https://www.rtings.com/tv/reviews/sony/x95l\",\n",
    "      \"https://www.rtings.com/tv/reviews/sony/x93l-x93cl\",\n",
    "      \"https://www.rtings.com/tv/reviews/sony/x90l-x90cl\"]"
   ]
  },
  {
   "cell_type": "code",
   "execution_count": 5,
   "id": "98c006be-6c8a-4808-a4ec-59ecbe9f1d56",
   "metadata": {},
   "outputs": [],
   "source": [
    "# 분석할 엑셀 파일이 있는 폴더 경로\n",
    "if not urls:\n",
    "    file_list = intput_folder.glob('*')\n",
    "    excel_files = [file for file in file_list if file.suffix in {'.xlsx', '.xls'}]\n",
    "    \n",
    "    for excel_file in excel_files:\n",
    "        df = pd.read_excel(excel_file)\n",
    "        urls.extend(df[\"urls\"])\n",
    "print(urls)"
   ]
  },
  {
   "cell_type": "markdown",
   "id": "0429c013",
   "metadata": {},
   "source": [
    "## gathering data"
   ]
  },
  {
   "cell_type": "code",
   "execution_count": null,
   "id": "04403ca4-778f-4866-b206-542d682ce23d",
   "metadata": {},
   "outputs": [],
   "source": [
    "score_df = pd.DataFrame()\n",
    "measurement_df = pd.DataFrame()\n",
    "comments_df = pd.DataFrame()\n",
    "for url in urls:\n",
    "    maker = url.split(\"/\")[-2]\n",
    "    model = url.split(\"/\")[-1]\n",
    "    \n",
    "    # 저장할 데이터 경로\n",
    "    file_name = f\"rtings{date.today().strftime('%Y-%m-%d')}.xlsx\"\n",
    "    output_file_name = output_folder/file_name\n",
    "    rtings = Rtings(webdriver_path = webdriver_path, browser_path=browser_path, enable_headless=enable_headless)\n",
    "\n",
    "    df= rtings.get_score(url,format_df=True)\n",
    "    score_df = pd.concat([score_df,df], axis=0)\n",
    "    FileManager.df_to_excel(score_df, file_name=output_file_name, sheet_name=\"scores\", mode='w')\n",
    "\n",
    "    # 저장할 데이터 경로\n",
    "    df= rtings.get_measurement_reuslts(url)\n",
    "    measurement_df = pd.concat([measurement_df,df], axis=0)\n",
    "    FileManager.df_to_excel(measurement_df, file_name=output_file_name, sheet_name=\"measurement\", mode='a')\n",
    "\n",
    "    comments_df = rtings.get_commetns(url, format_df=True)\n",
    "    comments_df = pd.concat([comments_df,df], axis=0)\n",
    "    FileManager.df_to_excel(comments_df, file_name=output_file_name, sheet_name=\"comments\", mode='a')"
   ]
  },
  {
   "cell_type": "markdown",
   "id": "db79af4f-74e5-418d-b160-1c74d576a5ba",
   "metadata": {},
   "source": [
    "## plot"
   ]
  },
  {
   "cell_type": "markdown",
   "id": "b2a01dd7-a532-4c45-8bd2-3b738cd47b0b",
   "metadata": {},
   "source": [
    "## heatmap, scores"
   ]
  },
  {
   "cell_type": "code",
   "execution_count": null,
   "id": "56be79bb-aedb-49b9-861b-99548a9582e9",
   "metadata": {},
   "outputs": [],
   "source": [
    "col_socres = [\"maker\",\"product\",\"header\", \"score\"]\n",
    "data_df = measurement_df[col_socres].drop_duplicates().replace(\"\",np.nan).dropna()\n",
    "data_df[\"score\"] = data_df[\"score\"].map(lambda x:float(x))\n",
    "data_df[\"product\"] = data_df[\"product\"].map(lambda x: x.replace(\"-oled\",\"\"))\n",
    "data_df = data_df.pivot(index=[\"maker\",\"product\"], columns=\"header\", values='score')"
   ]
  },
  {
   "cell_type": "code",
   "execution_count": null,
   "id": "dc9f34e4-e7a1-44d7-93bc-d9e5739818a5",
   "metadata": {},
   "outputs": [],
   "source": [
    "plt.figure(figsize=(8,10))\n",
    "sns.heatmap(data_df.T, annot=True, cmap=\"cividis\", cbar=True, vmin=0, vmax=10)\n",
    "plt.title(\"heatmap for Rtings\")\n",
    "plt.show()"
   ]
  },
  {
   "cell_type": "markdown",
   "id": "cbc59881-d4f7-4f8a-bf80-2128f7824f0e",
   "metadata": {},
   "source": [
    "## Line Plot, HDR Brightness"
   ]
  },
  {
   "cell_type": "code",
   "execution_count": null,
   "id": "270f459f-e4d5-497c-9da9-aa487b320cd5",
   "metadata": {},
   "outputs": [],
   "source": [
    "hdr_df = measurement_df[measurement_df[\"header\"] == 'HDR Brightness']\n",
    "hdr_df[\"result_value\"] = hdr_df[\"result_value\"].map(lambda x: x.replace(\"cd/m²\",\"\")).map(lambda x: x.replace(\",\",\"\")).map(lambda x:x.strip()).map(lambda x:float(x))\n",
    "hdr_df_peak = hdr_df[hdr_df.label.map(lambda x:True if \"Peak\" in x else False)]\n",
    "hdr_df_peak[\"label\"] = hdr_df_peak[\"label\"].map(lambda x: int(x.split(\"%\")[0].split(\" \")[-1]))\n",
    "hdr_df_peak = hdr_df_peak.sort_values([\"maker\",\"product\",\"label\"], ascending=False)\n",
    "# hdr_df_peak[\"label\"]=hdr_df_peak.label.map(lambda x: str(x)+\"%\")\n",
    "data_df = hdr_df_peak.pivot(index=[\"maker\",\"product\"], columns=\"label\", values='result_value')\n",
    "data_df.columns = data_df.columns.map(lambda x: str(x)+\"%\")\n",
    "\n",
    "data_df = data_df.reset_index()\n",
    "data_df = pd.merge(pd.Series([f\"{maker}_{product}\"for maker, product in zip(data_df[\"maker\"], data_df[\"product\"])],name=\"label\"),\n",
    "                   data_df, left_index=True, right_index=True).drop(['maker','product'], axis=1).set_index(\"label\")"
   ]
  },
  {
   "cell_type": "code",
   "execution_count": null,
   "id": "fecb5f06-3e4d-4899-8cd2-542402eb39dc",
   "metadata": {},
   "outputs": [],
   "source": [
    "import seaborn as sns\n",
    "import matplotlib.pyplot as plt\n",
    "sns.set_style(\"white\")\n",
    "\n",
    "plt.figure(figsize=(10, 5))\n",
    "sns.lineplot(data=data_df.T, dashes=False, markers=True, palette='YlGnBu')\n",
    "plt.yticks([200, 1000, 1500, 2000], ['200', '1000', '1500', '2000'])\n",
    "sns.despine()"
   ]
  },
  {
   "cell_type": "code",
   "execution_count": null,
   "id": "c66d2713-d242-4cc7-9a36-7a1f4293c23b",
   "metadata": {},
   "outputs": [],
   "source": [
    "import plotly.express as px\n",
    "fig = px.line(data_df.T, x=data_df.T.index, y=data_df.T.columns, title='HDR Brightness',\n",
    "              labels={'index': 'APL', 'value': 'Brightness'}, line_shape='linear',\n",
    "              color_discrete_sequence=px.colors.qualitative.Vivid)\n",
    "fig.update_layout(width=1000, height=500, template='plotly_white', margin=dict(l=10, r=10, b=10, t=40))\n",
    "fig.update_yaxes(range=[0, 2000], tickvals=[200, 1000, 1500, 2000], ticktext=['200', '1000', '1500', '2000'])\n",
    "fig.show()\n",
    "\n",
    "# template='plotly_dark','ggplot2', 'seaborn', 'simple_white', 'plotly', 'plotly_white'"
   ]
  },
  {
   "cell_type": "markdown",
   "id": "a49de963-3e28-46d1-a149-cc973f3d079e",
   "metadata": {},
   "source": [
    "---"
   ]
  },
  {
   "cell_type": "code",
   "execution_count": null,
   "id": "19904917-21f9-461d-8c0d-42b907d773ba",
   "metadata": {},
   "outputs": [],
   "source": [
    "set(measurement_df.header)"
   ]
  },
  {
   "cell_type": "markdown",
   "id": "1cd68dd3",
   "metadata": {},
   "source": [
    "- colab에서 파일 받기"
   ]
  },
  {
   "cell_type": "code",
   "execution_count": null,
   "id": "6b6f31bc-00ae-4f77-aeb4-c566532aaa0b",
   "metadata": {},
   "outputs": [],
   "source": [
    "!zip -r /content/results_rtings.zip /content/results/\n",
    "files.download('/content/results_rtings.zip')"
   ]
  },
  {
   "cell_type": "markdown",
   "id": "22e7d3b1",
   "metadata": {},
   "source": [
    "---"
   ]
  }
 ],
 "metadata": {
  "kernelspec": {
   "display_name": "Python 3 (ipykernel)",
   "language": "python",
   "name": "python3"
  },
  "language_info": {
   "codemirror_mode": {
    "name": "ipython",
    "version": 3
   },
   "file_extension": ".py",
   "mimetype": "text/x-python",
   "name": "python",
   "nbconvert_exporter": "python",
   "pygments_lexer": "ipython3",
   "version": "3.10.13"
  },
  "toc": {
   "base_numbering": 1,
   "nav_menu": {},
   "number_sections": true,
   "sideBar": true,
   "skip_h1_title": false,
   "title_cell": "Table of Contents",
   "title_sidebar": "Contents",
   "toc_cell": false,
   "toc_position": {},
   "toc_section_display": true,
   "toc_window_display": false
  }
 },
 "nbformat": 4,
 "nbformat_minor": 5
}
