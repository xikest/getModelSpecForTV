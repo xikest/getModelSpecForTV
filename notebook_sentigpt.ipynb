{
 "cells": [
  {
   "cell_type": "markdown",
   "id": "56df5786-c925-443a-90b5-505dd20d74a3",
   "metadata": {},
   "source": [
    "## sentgpt: 감성 분석"
   ]
  },
  {
   "cell_type": "markdown",
   "id": "053ad406-71f0-478b-9f5e-bcce71df0101",
   "metadata": {},
   "source": [
    "### GPT setting\n",
    "- [GPT model info @open AI](https://platform.openai.com/docs/models/continuous-model-upgrades)\n",
    "- [GPT model price @open AI](gpt-4-1106-preview)"
   ]
  },
  {
   "cell_type": "code",
   "execution_count": null,
   "id": "dc36b831-1feb-4fc4-8cfb-cb62fc9d948b",
   "metadata": {},
   "outputs": [],
   "source": [
    "API_KEY = \"YOUR_API\"\n",
    "gpt_model=\"gpt-3.5-turbo-1106\""
   ]
  },
  {
   "cell_type": "code",
   "execution_count": null,
   "id": "8dc83540-c5cb-4b33-a6b9-d5f657e90555",
   "metadata": {},
   "outputs": [],
   "source": [
    "stm = SentiGPT(api_key=API_KEY, gpt_model=gpt_model)"
   ]
  },
  {
   "cell_type": "code",
   "execution_count": null,
   "id": "f6f07fdf-7d7b-47f1-8a09-ca61a9e4f07a",
   "metadata": {},
   "outputs": [],
   "source": [
    "for excel_file in excel_files:\n",
    "    # 데이터 셋\n",
    "    excel_file_path = excel_file\n",
    "    df_uploaded = pd.read_excel(excel_file_path)\n",
    "    df_sentences = df_uploaded\n",
    "    \n",
    "    # GPT 분석\n",
    "    sentences_list = [sentence for sentence in df_sentences[\"sentences\"]]  # 리스트로 변환\n",
    "    keywords_list=[\"brightness\", \"color\", \"contrast\", \"reflection\", \"viewing angle\"]\n",
    "    analyzed_results_df = stm.analyze_sentences(sentences_list, keywords_list)\n",
    "    \n",
    "    # 분석 파일 저장\n",
    "    file_name=excel_file_path.name.split(\".\")[0]\n",
    "    output_file_path = output_folder/file_name\n",
    " \n",
    "    if not output_file_path.exists():\n",
    "        output_file_path.mkdir(parents=True, exist_ok=True)\n",
    "    analyzed_results_df.to_csv(output_file_path / f\"analyzed_results_{file_name}.csv\", index=False, encoding='utf-8')\n",
    "    \n",
    "    #그래프 만들기\n",
    "    # df_analyzed_results = analyzed_results_df - 5  #그래프 범위 조정\n",
    "    print(f\"{file_name}, Plot\")\n",
    "    stm.plot_hist_all(output_folder=output_file_path, file_name=file_name)\n",
    "    stm.plot_hist_each(output_folder=output_file_path, file_name=file_name)"
   ]
  },
  {
   "cell_type": "code",
   "execution_count": null,
   "id": "2db52dd7-7c2e-4bab-8e40-5fe5799eddb8",
   "metadata": {},
   "outputs": [],
   "source": []
  }
 ],
 "metadata": {
  "kernelspec": {
   "display_name": "Python 3 (ipykernel)",
   "language": "python",
   "name": "python3"
  },
  "language_info": {
   "codemirror_mode": {
    "name": "ipython",
    "version": 3
   },
   "file_extension": ".py",
   "mimetype": "text/x-python",
   "name": "python",
   "nbconvert_exporter": "python",
   "pygments_lexer": "ipython3",
   "version": "3.10.13"
  }
 },
 "nbformat": 4,
 "nbformat_minor": 5
}
